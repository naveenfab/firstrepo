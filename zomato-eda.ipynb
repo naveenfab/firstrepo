{
 "cells": [
  {
   "cell_type": "markdown",
   "id": "5197f973",
   "metadata": {
    "papermill": {
     "duration": 0.023378,
     "end_time": "2023-01-20T09:03:52.258183",
     "exception": false,
     "start_time": "2023-01-20T09:03:52.234805",
     "status": "completed"
    },
    "tags": []
   },
   "source": [
    "# About Dataset\n",
    "\n",
    "This dataset containing information of food restraunts in banglaore who are working with Zomato.The data was scraped from Zomato in two phase. After going through the structure of the website I found \n",
    "* for each neighborhood there are 6-7 category of restaurants viz. Buffet, Cafes, Delivery, Desserts, Dine-out, Drinks & nightlife, Pubs and bars.\n",
    "* So, here we are trying to find the best restaurants for customer depends on their need."
   ]
  },
  {
   "cell_type": "markdown",
   "id": "47280766",
   "metadata": {
    "papermill": {
     "duration": 0.021602,
     "end_time": "2023-01-20T09:03:52.301675",
     "exception": false,
     "start_time": "2023-01-20T09:03:52.280073",
     "status": "completed"
    },
    "tags": []
   },
   "source": [
    "## Possible Findings :\n",
    "\n",
    "* 1) How many restaurants accpeting online order for zomato?\n",
    "* 2) Find best location by seeing dataset.\n",
    "* 3) Find Types of restraunts and their count.\n",
    "* 4) Find count of restaurants have table boking facility.\n",
    "* 5) Find number of restaurant at given location.\n",
    "* 6) Find most famous restaurants chains(like Franchise(Rastaurants having more than one branch) in Bangalore.\n",
    "* 7) Find how many voters gives rating for each 'type' and aggregate rating of that 'type'.\n",
    "* 8) Gaussian Rest Type(Normal Distribution) of Rating.\n",
    "* 9) Find the how many Restaurants havign Chinese and North Indian food in their food type.\n",
    "* 10) Find the most profitable type of restaurant.\n",
    "\n"
   ]
  },
  {
   "cell_type": "markdown",
   "id": "637c130f",
   "metadata": {
    "papermill": {
     "duration": 0.021053,
     "end_time": "2023-01-20T09:03:52.344398",
     "exception": false,
     "start_time": "2023-01-20T09:03:52.323345",
     "status": "completed"
    },
    "tags": []
   },
   "source": [
    "# Exploratory Analysis\n",
    "\n",
    "To begin this exploratory analysis, first to import libraries and define functions for plotting the data. Depending on the data, not all plots will be made."
   ]
  },
  {
   "cell_type": "markdown",
   "id": "41f6ce2c",
   "metadata": {
    "papermill": {
     "duration": 0.021713,
     "end_time": "2023-01-20T09:03:52.388262",
     "exception": false,
     "start_time": "2023-01-20T09:03:52.366549",
     "status": "completed"
    },
    "tags": []
   },
   "source": [
    "# Process of Data Cleaning\n",
    "\n",
    "First we are trying to clean our data for the better results."
   ]
  },
  {
   "cell_type": "markdown",
   "id": "6f02edb0",
   "metadata": {
    "papermill": {
     "duration": 0.021705,
     "end_time": "2023-01-20T09:03:52.431938",
     "exception": false,
     "start_time": "2023-01-20T09:03:52.410233",
     "status": "completed"
    },
    "tags": []
   },
   "source": [
    "## Importing Libraries"
   ]
  },
  {
   "cell_type": "code",
   "execution_count": 1,
   "id": "b57473f9",
   "metadata": {
    "execution": {
     "iopub.execute_input": "2023-01-20T09:03:52.478995Z",
     "iopub.status.busy": "2023-01-20T09:03:52.477950Z",
     "iopub.status.idle": "2023-01-20T09:03:52.499007Z",
     "shell.execute_reply": "2023-01-20T09:03:52.497960Z"
    },
    "papermill": {
     "duration": 0.048294,
     "end_time": "2023-01-20T09:03:52.502261",
     "exception": false,
     "start_time": "2023-01-20T09:03:52.453967",
     "status": "completed"
    },
    "tags": []
   },
   "outputs": [
    {
     "name": "stdout",
     "output_type": "stream",
     "text": [
      "/kaggle/input/tomato-reviews/zomato.csv\n"
     ]
    }
   ],
   "source": [
    "# This Python 3 environment comes with many helpful analytics libraries installed\n",
    "# It is defined by the kaggle/python Docker image: https://github.com/kaggle/docker-python\n",
    "# For example, here's several helpful packages to load\n",
    "\n",
    "import numpy as np # linear algebra\n",
    "import pandas as pd # data processing, CSV file I/O (e.g. pd.read_csv)\n",
    "import re # regex pattern matching\n",
    "import warnings\n",
    "warnings.filterwarnings('ignore')# Ignoring warnings\n",
    "\n",
    "# Input data files are available in the read-only \"../input/\" directory\n",
    "# For example, running this (by clicking run or pressing Shift+Enter) will list all files under the input directory\n",
    "\n",
    "import os\n",
    "for dirname, _, filenames in os.walk('/kaggle/input'):\n",
    "    for filename in filenames:\n",
    "        print(os.path.join(dirname, filename))\n",
    "                                \n",
    "# You can write up to 20GB to the current directory (/kaggle/working/) that gets preserved as output when you create a version using \"Save & Run All\" \n",
    "# You can also write temporary files to /kaggle/temp/, but they won't be saved outside of the current session"
   ]
  },
  {
   "cell_type": "markdown",
   "id": "d92dff4a",
   "metadata": {
    "papermill": {
     "duration": 0.021887,
     "end_time": "2023-01-20T09:03:52.547466",
     "exception": false,
     "start_time": "2023-01-20T09:03:52.525579",
     "status": "completed"
    },
    "tags": []
   },
   "source": [
    "## Reading Dataset"
   ]
  },
  {
   "cell_type": "code",
   "execution_count": 2,
   "id": "134eaea0",
   "metadata": {
    "execution": {
     "iopub.execute_input": "2023-01-20T09:03:52.593708Z",
     "iopub.status.busy": "2023-01-20T09:03:52.593320Z",
     "iopub.status.idle": "2023-01-20T09:04:05.466746Z",
     "shell.execute_reply": "2023-01-20T09:04:05.465565Z"
    },
    "papermill": {
     "duration": 12.899267,
     "end_time": "2023-01-20T09:04:05.469308",
     "exception": false,
     "start_time": "2023-01-20T09:03:52.570041",
     "status": "completed"
    },
    "tags": []
   },
   "outputs": [],
   "source": [
    "zmt=pd.read_csv('/kaggle/input/tomato-reviews/zomato.csv')"
   ]
  },
  {
   "cell_type": "code",
   "execution_count": 3,
   "id": "ff1ec6cb",
   "metadata": {
    "execution": {
     "iopub.execute_input": "2023-01-20T09:04:05.517751Z",
     "iopub.status.busy": "2023-01-20T09:04:05.516690Z",
     "iopub.status.idle": "2023-01-20T09:04:05.553266Z",
     "shell.execute_reply": "2023-01-20T09:04:05.549259Z"
    },
    "papermill": {
     "duration": 0.066722,
     "end_time": "2023-01-20T09:04:05.559854",
     "exception": false,
     "start_time": "2023-01-20T09:04:05.493132",
     "status": "completed"
    },
    "tags": []
   },
   "outputs": [
    {
     "data": {
      "text/html": [
       "<div>\n",
       "<style scoped>\n",
       "    .dataframe tbody tr th:only-of-type {\n",
       "        vertical-align: middle;\n",
       "    }\n",
       "\n",
       "    .dataframe tbody tr th {\n",
       "        vertical-align: top;\n",
       "    }\n",
       "\n",
       "    .dataframe thead th {\n",
       "        text-align: right;\n",
       "    }\n",
       "</style>\n",
       "<table border=\"1\" class=\"dataframe\">\n",
       "  <thead>\n",
       "    <tr style=\"text-align: right;\">\n",
       "      <th></th>\n",
       "      <th>url</th>\n",
       "      <th>address</th>\n",
       "      <th>name</th>\n",
       "      <th>online_order</th>\n",
       "      <th>book_table</th>\n",
       "      <th>rate</th>\n",
       "      <th>votes</th>\n",
       "      <th>phone</th>\n",
       "      <th>location</th>\n",
       "      <th>rest_type</th>\n",
       "      <th>dish_liked</th>\n",
       "      <th>cuisines</th>\n",
       "      <th>approx_cost(for two people)</th>\n",
       "      <th>reviews_list</th>\n",
       "      <th>menu_item</th>\n",
       "      <th>listed_in(type)</th>\n",
       "      <th>listed_in(city)</th>\n",
       "    </tr>\n",
       "  </thead>\n",
       "  <tbody>\n",
       "    <tr>\n",
       "      <th>0</th>\n",
       "      <td>https://www.zomato.com/bangalore/jalsa-banasha...</td>\n",
       "      <td>942, 21st Main Road, 2nd Stage, Banashankari, ...</td>\n",
       "      <td>Jalsa</td>\n",
       "      <td>Yes</td>\n",
       "      <td>Yes</td>\n",
       "      <td>4.1/5</td>\n",
       "      <td>775</td>\n",
       "      <td>080 42297555\\r\\n+91 9743772233</td>\n",
       "      <td>Banashankari</td>\n",
       "      <td>Casual Dining</td>\n",
       "      <td>Pasta, Lunch Buffet, Masala Papad, Paneer Laja...</td>\n",
       "      <td>North Indian, Mughlai, Chinese</td>\n",
       "      <td>800</td>\n",
       "      <td>[('Rated 4.0', 'RATED\\n  A beautiful place to ...</td>\n",
       "      <td>[]</td>\n",
       "      <td>Buffet</td>\n",
       "      <td>Banashankari</td>\n",
       "    </tr>\n",
       "    <tr>\n",
       "      <th>1</th>\n",
       "      <td>https://www.zomato.com/bangalore/spice-elephan...</td>\n",
       "      <td>2nd Floor, 80 Feet Road, Near Big Bazaar, 6th ...</td>\n",
       "      <td>Spice Elephant</td>\n",
       "      <td>Yes</td>\n",
       "      <td>No</td>\n",
       "      <td>4.1/5</td>\n",
       "      <td>787</td>\n",
       "      <td>080 41714161</td>\n",
       "      <td>Banashankari</td>\n",
       "      <td>Casual Dining</td>\n",
       "      <td>Momos, Lunch Buffet, Chocolate Nirvana, Thai G...</td>\n",
       "      <td>Chinese, North Indian, Thai</td>\n",
       "      <td>800</td>\n",
       "      <td>[('Rated 4.0', 'RATED\\n  Had been here for din...</td>\n",
       "      <td>[]</td>\n",
       "      <td>Buffet</td>\n",
       "      <td>Banashankari</td>\n",
       "    </tr>\n",
       "    <tr>\n",
       "      <th>2</th>\n",
       "      <td>https://www.zomato.com/SanchurroBangalore?cont...</td>\n",
       "      <td>1112, Next to KIMS Medical College, 17th Cross...</td>\n",
       "      <td>San Churro Cafe</td>\n",
       "      <td>Yes</td>\n",
       "      <td>No</td>\n",
       "      <td>3.8/5</td>\n",
       "      <td>918</td>\n",
       "      <td>+91 9663487993</td>\n",
       "      <td>Banashankari</td>\n",
       "      <td>Cafe, Casual Dining</td>\n",
       "      <td>Churros, Cannelloni, Minestrone Soup, Hot Choc...</td>\n",
       "      <td>Cafe, Mexican, Italian</td>\n",
       "      <td>800</td>\n",
       "      <td>[('Rated 3.0', \"RATED\\n  Ambience is not that ...</td>\n",
       "      <td>[]</td>\n",
       "      <td>Buffet</td>\n",
       "      <td>Banashankari</td>\n",
       "    </tr>\n",
       "    <tr>\n",
       "      <th>3</th>\n",
       "      <td>https://www.zomato.com/bangalore/addhuri-udupi...</td>\n",
       "      <td>1st Floor, Annakuteera, 3rd Stage, Banashankar...</td>\n",
       "      <td>Addhuri Udupi Bhojana</td>\n",
       "      <td>No</td>\n",
       "      <td>No</td>\n",
       "      <td>3.7/5</td>\n",
       "      <td>88</td>\n",
       "      <td>+91 9620009302</td>\n",
       "      <td>Banashankari</td>\n",
       "      <td>Quick Bites</td>\n",
       "      <td>Masala Dosa</td>\n",
       "      <td>South Indian, North Indian</td>\n",
       "      <td>300</td>\n",
       "      <td>[('Rated 4.0', \"RATED\\n  Great food and proper...</td>\n",
       "      <td>[]</td>\n",
       "      <td>Buffet</td>\n",
       "      <td>Banashankari</td>\n",
       "    </tr>\n",
       "    <tr>\n",
       "      <th>4</th>\n",
       "      <td>https://www.zomato.com/bangalore/grand-village...</td>\n",
       "      <td>10, 3rd Floor, Lakshmi Associates, Gandhi Baza...</td>\n",
       "      <td>Grand Village</td>\n",
       "      <td>No</td>\n",
       "      <td>No</td>\n",
       "      <td>3.8/5</td>\n",
       "      <td>166</td>\n",
       "      <td>+91 8026612447\\r\\n+91 9901210005</td>\n",
       "      <td>Basavanagudi</td>\n",
       "      <td>Casual Dining</td>\n",
       "      <td>Panipuri, Gol Gappe</td>\n",
       "      <td>North Indian, Rajasthani</td>\n",
       "      <td>600</td>\n",
       "      <td>[('Rated 4.0', 'RATED\\n  Very good restaurant ...</td>\n",
       "      <td>[]</td>\n",
       "      <td>Buffet</td>\n",
       "      <td>Banashankari</td>\n",
       "    </tr>\n",
       "  </tbody>\n",
       "</table>\n",
       "</div>"
      ],
      "text/plain": [
       "                                                 url  \\\n",
       "0  https://www.zomato.com/bangalore/jalsa-banasha...   \n",
       "1  https://www.zomato.com/bangalore/spice-elephan...   \n",
       "2  https://www.zomato.com/SanchurroBangalore?cont...   \n",
       "3  https://www.zomato.com/bangalore/addhuri-udupi...   \n",
       "4  https://www.zomato.com/bangalore/grand-village...   \n",
       "\n",
       "                                             address                   name  \\\n",
       "0  942, 21st Main Road, 2nd Stage, Banashankari, ...                  Jalsa   \n",
       "1  2nd Floor, 80 Feet Road, Near Big Bazaar, 6th ...         Spice Elephant   \n",
       "2  1112, Next to KIMS Medical College, 17th Cross...        San Churro Cafe   \n",
       "3  1st Floor, Annakuteera, 3rd Stage, Banashankar...  Addhuri Udupi Bhojana   \n",
       "4  10, 3rd Floor, Lakshmi Associates, Gandhi Baza...          Grand Village   \n",
       "\n",
       "  online_order book_table   rate  votes                             phone  \\\n",
       "0          Yes        Yes  4.1/5    775    080 42297555\\r\\n+91 9743772233   \n",
       "1          Yes         No  4.1/5    787                      080 41714161   \n",
       "2          Yes         No  3.8/5    918                    +91 9663487993   \n",
       "3           No         No  3.7/5     88                    +91 9620009302   \n",
       "4           No         No  3.8/5    166  +91 8026612447\\r\\n+91 9901210005   \n",
       "\n",
       "       location            rest_type  \\\n",
       "0  Banashankari        Casual Dining   \n",
       "1  Banashankari        Casual Dining   \n",
       "2  Banashankari  Cafe, Casual Dining   \n",
       "3  Banashankari          Quick Bites   \n",
       "4  Basavanagudi        Casual Dining   \n",
       "\n",
       "                                          dish_liked  \\\n",
       "0  Pasta, Lunch Buffet, Masala Papad, Paneer Laja...   \n",
       "1  Momos, Lunch Buffet, Chocolate Nirvana, Thai G...   \n",
       "2  Churros, Cannelloni, Minestrone Soup, Hot Choc...   \n",
       "3                                        Masala Dosa   \n",
       "4                                Panipuri, Gol Gappe   \n",
       "\n",
       "                         cuisines approx_cost(for two people)  \\\n",
       "0  North Indian, Mughlai, Chinese                         800   \n",
       "1     Chinese, North Indian, Thai                         800   \n",
       "2          Cafe, Mexican, Italian                         800   \n",
       "3      South Indian, North Indian                         300   \n",
       "4        North Indian, Rajasthani                         600   \n",
       "\n",
       "                                        reviews_list menu_item  \\\n",
       "0  [('Rated 4.0', 'RATED\\n  A beautiful place to ...        []   \n",
       "1  [('Rated 4.0', 'RATED\\n  Had been here for din...        []   \n",
       "2  [('Rated 3.0', \"RATED\\n  Ambience is not that ...        []   \n",
       "3  [('Rated 4.0', \"RATED\\n  Great food and proper...        []   \n",
       "4  [('Rated 4.0', 'RATED\\n  Very good restaurant ...        []   \n",
       "\n",
       "  listed_in(type) listed_in(city)  \n",
       "0          Buffet    Banashankari  \n",
       "1          Buffet    Banashankari  \n",
       "2          Buffet    Banashankari  \n",
       "3          Buffet    Banashankari  \n",
       "4          Buffet    Banashankari  "
      ]
     },
     "execution_count": 3,
     "metadata": {},
     "output_type": "execute_result"
    }
   ],
   "source": [
    "zmt.head() # reading 1st five rows of our dataset using .head()"
   ]
  },
  {
   "cell_type": "code",
   "execution_count": 4,
   "id": "d9f5ff9f",
   "metadata": {
    "execution": {
     "iopub.execute_input": "2023-01-20T09:04:05.611990Z",
     "iopub.status.busy": "2023-01-20T09:04:05.611374Z",
     "iopub.status.idle": "2023-01-20T09:04:05.682148Z",
     "shell.execute_reply": "2023-01-20T09:04:05.680843Z"
    },
    "papermill": {
     "duration": 0.10009,
     "end_time": "2023-01-20T09:04:05.687302",
     "exception": false,
     "start_time": "2023-01-20T09:04:05.587212",
     "status": "completed"
    },
    "tags": []
   },
   "outputs": [
    {
     "name": "stdout",
     "output_type": "stream",
     "text": [
      "<class 'pandas.core.frame.DataFrame'>\n",
      "RangeIndex: 51717 entries, 0 to 51716\n",
      "Data columns (total 17 columns):\n",
      " #   Column                       Non-Null Count  Dtype \n",
      "---  ------                       --------------  ----- \n",
      " 0   url                          51717 non-null  object\n",
      " 1   address                      51717 non-null  object\n",
      " 2   name                         51717 non-null  object\n",
      " 3   online_order                 51717 non-null  object\n",
      " 4   book_table                   51717 non-null  object\n",
      " 5   rate                         43942 non-null  object\n",
      " 6   votes                        51717 non-null  int64 \n",
      " 7   phone                        50509 non-null  object\n",
      " 8   location                     51696 non-null  object\n",
      " 9   rest_type                    51490 non-null  object\n",
      " 10  dish_liked                   23639 non-null  object\n",
      " 11  cuisines                     51672 non-null  object\n",
      " 12  approx_cost(for two people)  51371 non-null  object\n",
      " 13  reviews_list                 51717 non-null  object\n",
      " 14  menu_item                    51717 non-null  object\n",
      " 15  listed_in(type)              51717 non-null  object\n",
      " 16  listed_in(city)              51717 non-null  object\n",
      "dtypes: int64(1), object(16)\n",
      "memory usage: 6.7+ MB\n"
     ]
    }
   ],
   "source": [
    "zmt.info() #checking information of our dataset"
   ]
  },
  {
   "cell_type": "markdown",
   "id": "7ad85cf9",
   "metadata": {
    "papermill": {
     "duration": 0.026812,
     "end_time": "2023-01-20T09:04:05.742748",
     "exception": false,
     "start_time": "2023-01-20T09:04:05.715936",
     "status": "completed"
    },
    "tags": []
   },
   "source": [
    "Here we can see we are having 17 columns and some columns including NaN values and incorrect data_types.\n",
    "\n",
    "Ex: approx_cost(for two people) column has integer values but having object data_type.\n"
   ]
  },
  {
   "cell_type": "markdown",
   "id": "eaf88917",
   "metadata": {
    "papermill": {
     "duration": 0.023394,
     "end_time": "2023-01-20T09:04:05.790306",
     "exception": false,
     "start_time": "2023-01-20T09:04:05.766912",
     "status": "completed"
    },
    "tags": []
   },
   "source": [
    "## Droping Unnecessary Columns\n",
    "\n",
    "Unnecessary Columns:\n",
    "\n",
    "Unnecessary columns are those columns which are not that useful for analysis.\n",
    "\n",
    "Ex: Phone_Number, we not able to predict anything using Phone numbers. So, we can drop that columns which we are not going to use."
   ]
  },
  {
   "cell_type": "code",
   "execution_count": 5,
   "id": "d29f91fc",
   "metadata": {
    "execution": {
     "iopub.execute_input": "2023-01-20T09:04:05.837484Z",
     "iopub.status.busy": "2023-01-20T09:04:05.837054Z",
     "iopub.status.idle": "2023-01-20T09:04:05.850631Z",
     "shell.execute_reply": "2023-01-20T09:04:05.849467Z"
    },
    "papermill": {
     "duration": 0.040491,
     "end_time": "2023-01-20T09:04:05.852994",
     "exception": false,
     "start_time": "2023-01-20T09:04:05.812503",
     "status": "completed"
    },
    "tags": []
   },
   "outputs": [],
   "source": [
    "zmt.drop(['url','reviews_list','menu_item','address','phone','dish_liked'],axis=1,inplace=True)"
   ]
  },
  {
   "cell_type": "code",
   "execution_count": 6,
   "id": "6ff357cb",
   "metadata": {
    "execution": {
     "iopub.execute_input": "2023-01-20T09:04:05.899855Z",
     "iopub.status.busy": "2023-01-20T09:04:05.899473Z",
     "iopub.status.idle": "2023-01-20T09:04:05.915246Z",
     "shell.execute_reply": "2023-01-20T09:04:05.913968Z"
    },
    "papermill": {
     "duration": 0.042258,
     "end_time": "2023-01-20T09:04:05.917610",
     "exception": false,
     "start_time": "2023-01-20T09:04:05.875352",
     "status": "completed"
    },
    "tags": []
   },
   "outputs": [
    {
     "data": {
      "text/html": [
       "<div>\n",
       "<style scoped>\n",
       "    .dataframe tbody tr th:only-of-type {\n",
       "        vertical-align: middle;\n",
       "    }\n",
       "\n",
       "    .dataframe tbody tr th {\n",
       "        vertical-align: top;\n",
       "    }\n",
       "\n",
       "    .dataframe thead th {\n",
       "        text-align: right;\n",
       "    }\n",
       "</style>\n",
       "<table border=\"1\" class=\"dataframe\">\n",
       "  <thead>\n",
       "    <tr style=\"text-align: right;\">\n",
       "      <th></th>\n",
       "      <th>name</th>\n",
       "      <th>online_order</th>\n",
       "      <th>book_table</th>\n",
       "      <th>rate</th>\n",
       "      <th>votes</th>\n",
       "      <th>location</th>\n",
       "      <th>rest_type</th>\n",
       "      <th>cuisines</th>\n",
       "      <th>approx_cost(for two people)</th>\n",
       "      <th>listed_in(type)</th>\n",
       "      <th>listed_in(city)</th>\n",
       "    </tr>\n",
       "  </thead>\n",
       "  <tbody>\n",
       "    <tr>\n",
       "      <th>0</th>\n",
       "      <td>Jalsa</td>\n",
       "      <td>Yes</td>\n",
       "      <td>Yes</td>\n",
       "      <td>4.1/5</td>\n",
       "      <td>775</td>\n",
       "      <td>Banashankari</td>\n",
       "      <td>Casual Dining</td>\n",
       "      <td>North Indian, Mughlai, Chinese</td>\n",
       "      <td>800</td>\n",
       "      <td>Buffet</td>\n",
       "      <td>Banashankari</td>\n",
       "    </tr>\n",
       "    <tr>\n",
       "      <th>1</th>\n",
       "      <td>Spice Elephant</td>\n",
       "      <td>Yes</td>\n",
       "      <td>No</td>\n",
       "      <td>4.1/5</td>\n",
       "      <td>787</td>\n",
       "      <td>Banashankari</td>\n",
       "      <td>Casual Dining</td>\n",
       "      <td>Chinese, North Indian, Thai</td>\n",
       "      <td>800</td>\n",
       "      <td>Buffet</td>\n",
       "      <td>Banashankari</td>\n",
       "    </tr>\n",
       "  </tbody>\n",
       "</table>\n",
       "</div>"
      ],
      "text/plain": [
       "             name online_order book_table   rate  votes      location  \\\n",
       "0           Jalsa          Yes        Yes  4.1/5    775  Banashankari   \n",
       "1  Spice Elephant          Yes         No  4.1/5    787  Banashankari   \n",
       "\n",
       "       rest_type                        cuisines approx_cost(for two people)  \\\n",
       "0  Casual Dining  North Indian, Mughlai, Chinese                         800   \n",
       "1  Casual Dining     Chinese, North Indian, Thai                         800   \n",
       "\n",
       "  listed_in(type) listed_in(city)  \n",
       "0          Buffet    Banashankari  \n",
       "1          Buffet    Banashankari  "
      ]
     },
     "execution_count": 6,
     "metadata": {},
     "output_type": "execute_result"
    }
   ],
   "source": [
    "zmt.head(2)"
   ]
  },
  {
   "cell_type": "markdown",
   "id": "57c74c72",
   "metadata": {
    "papermill": {
     "duration": 0.022511,
     "end_time": "2023-01-20T09:04:05.962631",
     "exception": false,
     "start_time": "2023-01-20T09:04:05.940120",
     "status": "completed"
    },
    "tags": []
   },
   "source": [
    "Here, we are geeting only those columns which are useful for analysis."
   ]
  },
  {
   "cell_type": "markdown",
   "id": "5dbe8ce6",
   "metadata": {
    "papermill": {
     "duration": 0.022296,
     "end_time": "2023-01-20T09:04:06.008060",
     "exception": false,
     "start_time": "2023-01-20T09:04:05.985764",
     "status": "completed"
    },
    "tags": []
   },
   "source": [
    "## Renaming Columns \n",
    "\n",
    "We are renaming the columns for better readability"
   ]
  },
  {
   "cell_type": "code",
   "execution_count": 7,
   "id": "07edb2df",
   "metadata": {
    "execution": {
     "iopub.execute_input": "2023-01-20T09:04:06.060495Z",
     "iopub.status.busy": "2023-01-20T09:04:06.059347Z",
     "iopub.status.idle": "2023-01-20T09:04:06.067046Z",
     "shell.execute_reply": "2023-01-20T09:04:06.065617Z"
    },
    "papermill": {
     "duration": 0.039438,
     "end_time": "2023-01-20T09:04:06.069869",
     "exception": false,
     "start_time": "2023-01-20T09:04:06.030431",
     "status": "completed"
    },
    "tags": []
   },
   "outputs": [],
   "source": [
    "zmt.rename(columns={'name':'restaurants','rate':'rating','cuisines':'food_type','listed_in(type)':'type','listed_in(city)':'city','approx_cost(for two people)':'cost'},inplace=True)"
   ]
  },
  {
   "cell_type": "code",
   "execution_count": 8,
   "id": "5dc2f035",
   "metadata": {
    "execution": {
     "iopub.execute_input": "2023-01-20T09:04:06.132326Z",
     "iopub.status.busy": "2023-01-20T09:04:06.131794Z",
     "iopub.status.idle": "2023-01-20T09:04:06.151841Z",
     "shell.execute_reply": "2023-01-20T09:04:06.150701Z"
    },
    "papermill": {
     "duration": 0.055211,
     "end_time": "2023-01-20T09:04:06.154430",
     "exception": false,
     "start_time": "2023-01-20T09:04:06.099219",
     "status": "completed"
    },
    "tags": []
   },
   "outputs": [
    {
     "data": {
      "text/html": [
       "<div>\n",
       "<style scoped>\n",
       "    .dataframe tbody tr th:only-of-type {\n",
       "        vertical-align: middle;\n",
       "    }\n",
       "\n",
       "    .dataframe tbody tr th {\n",
       "        vertical-align: top;\n",
       "    }\n",
       "\n",
       "    .dataframe thead th {\n",
       "        text-align: right;\n",
       "    }\n",
       "</style>\n",
       "<table border=\"1\" class=\"dataframe\">\n",
       "  <thead>\n",
       "    <tr style=\"text-align: right;\">\n",
       "      <th></th>\n",
       "      <th>restaurants</th>\n",
       "      <th>online_order</th>\n",
       "      <th>book_table</th>\n",
       "      <th>rating</th>\n",
       "      <th>votes</th>\n",
       "      <th>location</th>\n",
       "      <th>rest_type</th>\n",
       "      <th>food_type</th>\n",
       "      <th>cost</th>\n",
       "      <th>type</th>\n",
       "      <th>city</th>\n",
       "    </tr>\n",
       "  </thead>\n",
       "  <tbody>\n",
       "    <tr>\n",
       "      <th>0</th>\n",
       "      <td>Jalsa</td>\n",
       "      <td>Yes</td>\n",
       "      <td>Yes</td>\n",
       "      <td>4.1/5</td>\n",
       "      <td>775</td>\n",
       "      <td>Banashankari</td>\n",
       "      <td>Casual Dining</td>\n",
       "      <td>North Indian, Mughlai, Chinese</td>\n",
       "      <td>800</td>\n",
       "      <td>Buffet</td>\n",
       "      <td>Banashankari</td>\n",
       "    </tr>\n",
       "  </tbody>\n",
       "</table>\n",
       "</div>"
      ],
      "text/plain": [
       "  restaurants online_order book_table rating  votes      location  \\\n",
       "0       Jalsa          Yes        Yes  4.1/5    775  Banashankari   \n",
       "\n",
       "       rest_type                       food_type cost    type          city  \n",
       "0  Casual Dining  North Indian, Mughlai, Chinese  800  Buffet  Banashankari  "
      ]
     },
     "execution_count": 8,
     "metadata": {},
     "output_type": "execute_result"
    }
   ],
   "source": [
    "zmt.head(1)"
   ]
  },
  {
   "cell_type": "markdown",
   "id": "212c26bf",
   "metadata": {
    "papermill": {
     "duration": 0.022225,
     "end_time": "2023-01-20T09:04:06.199259",
     "exception": false,
     "start_time": "2023-01-20T09:04:06.177034",
     "status": "completed"
    },
    "tags": []
   },
   "source": [
    "## Droping NaN values"
   ]
  },
  {
   "cell_type": "code",
   "execution_count": 9,
   "id": "7384b26c",
   "metadata": {
    "execution": {
     "iopub.execute_input": "2023-01-20T09:04:06.245940Z",
     "iopub.status.busy": "2023-01-20T09:04:06.245572Z",
     "iopub.status.idle": "2023-01-20T09:04:06.283422Z",
     "shell.execute_reply": "2023-01-20T09:04:06.282256Z"
    },
    "papermill": {
     "duration": 0.06417,
     "end_time": "2023-01-20T09:04:06.286072",
     "exception": false,
     "start_time": "2023-01-20T09:04:06.221902",
     "status": "completed"
    },
    "tags": []
   },
   "outputs": [],
   "source": [
    "zmt.dropna(inplace = True) # Droping NaN values for better result using dropna()"
   ]
  },
  {
   "cell_type": "markdown",
   "id": "524a81fb",
   "metadata": {
    "papermill": {
     "duration": 0.022158,
     "end_time": "2023-01-20T09:04:06.332640",
     "exception": false,
     "start_time": "2023-01-20T09:04:06.310482",
     "status": "completed"
    },
    "tags": []
   },
   "source": [
    "# Cleaning Individual Columns"
   ]
  },
  {
   "cell_type": "markdown",
   "id": "f058a769",
   "metadata": {
    "papermill": {
     "duration": 0.022143,
     "end_time": "2023-01-20T09:04:06.377031",
     "exception": false,
     "start_time": "2023-01-20T09:04:06.354888",
     "status": "completed"
    },
    "tags": []
   },
   "source": [
    "#### Column : 'restaurants'\n",
    "\n",
    "Column contains Restaurant Names"
   ]
  },
  {
   "cell_type": "code",
   "execution_count": 10,
   "id": "ead8808a",
   "metadata": {
    "execution": {
     "iopub.execute_input": "2023-01-20T09:04:06.423536Z",
     "iopub.status.busy": "2023-01-20T09:04:06.423114Z",
     "iopub.status.idle": "2023-01-20T09:04:06.473673Z",
     "shell.execute_reply": "2023-01-20T09:04:06.472486Z"
    },
    "papermill": {
     "duration": 0.076616,
     "end_time": "2023-01-20T09:04:06.476095",
     "exception": false,
     "start_time": "2023-01-20T09:04:06.399479",
     "status": "completed"
    },
    "tags": []
   },
   "outputs": [
    {
     "data": {
      "text/html": [
       "<div>\n",
       "<style scoped>\n",
       "    .dataframe tbody tr th:only-of-type {\n",
       "        vertical-align: middle;\n",
       "    }\n",
       "\n",
       "    .dataframe tbody tr th {\n",
       "        vertical-align: top;\n",
       "    }\n",
       "\n",
       "    .dataframe thead th {\n",
       "        text-align: right;\n",
       "    }\n",
       "</style>\n",
       "<table border=\"1\" class=\"dataframe\">\n",
       "  <thead>\n",
       "    <tr style=\"text-align: right;\">\n",
       "      <th></th>\n",
       "      <th>online_order</th>\n",
       "      <th>book_table</th>\n",
       "      <th>rating</th>\n",
       "      <th>votes</th>\n",
       "      <th>location</th>\n",
       "      <th>rest_type</th>\n",
       "      <th>food_type</th>\n",
       "      <th>cost</th>\n",
       "      <th>type</th>\n",
       "      <th>city</th>\n",
       "    </tr>\n",
       "    <tr>\n",
       "      <th>restaurants</th>\n",
       "      <th></th>\n",
       "      <th></th>\n",
       "      <th></th>\n",
       "      <th></th>\n",
       "      <th></th>\n",
       "      <th></th>\n",
       "      <th></th>\n",
       "      <th></th>\n",
       "      <th></th>\n",
       "      <th></th>\n",
       "    </tr>\n",
       "  </thead>\n",
       "  <tbody>\n",
       "    <tr>\n",
       "      <th>#FeelTheROLL</th>\n",
       "      <td>2</td>\n",
       "      <td>2</td>\n",
       "      <td>2</td>\n",
       "      <td>2</td>\n",
       "      <td>2</td>\n",
       "      <td>2</td>\n",
       "      <td>2</td>\n",
       "      <td>2</td>\n",
       "      <td>2</td>\n",
       "      <td>2</td>\n",
       "    </tr>\n",
       "    <tr>\n",
       "      <th>#L-81 Cafe</th>\n",
       "      <td>9</td>\n",
       "      <td>9</td>\n",
       "      <td>9</td>\n",
       "      <td>9</td>\n",
       "      <td>9</td>\n",
       "      <td>9</td>\n",
       "      <td>9</td>\n",
       "      <td>9</td>\n",
       "      <td>9</td>\n",
       "      <td>9</td>\n",
       "    </tr>\n",
       "    <tr>\n",
       "      <th>#refuel</th>\n",
       "      <td>3</td>\n",
       "      <td>3</td>\n",
       "      <td>3</td>\n",
       "      <td>3</td>\n",
       "      <td>3</td>\n",
       "      <td>3</td>\n",
       "      <td>3</td>\n",
       "      <td>3</td>\n",
       "      <td>3</td>\n",
       "      <td>3</td>\n",
       "    </tr>\n",
       "    <tr>\n",
       "      <th>1000 B.C</th>\n",
       "      <td>6</td>\n",
       "      <td>6</td>\n",
       "      <td>6</td>\n",
       "      <td>6</td>\n",
       "      <td>6</td>\n",
       "      <td>6</td>\n",
       "      <td>6</td>\n",
       "      <td>6</td>\n",
       "      <td>6</td>\n",
       "      <td>6</td>\n",
       "    </tr>\n",
       "    <tr>\n",
       "      <th>100ÃÂÃÂÃÂÃÂÃÂÃÂÃÂÃÂ°C</th>\n",
       "      <td>3</td>\n",
       "      <td>3</td>\n",
       "      <td>3</td>\n",
       "      <td>3</td>\n",
       "      <td>3</td>\n",
       "      <td>3</td>\n",
       "      <td>3</td>\n",
       "      <td>3</td>\n",
       "      <td>3</td>\n",
       "      <td>3</td>\n",
       "    </tr>\n",
       "  </tbody>\n",
       "</table>\n",
       "</div>"
      ],
      "text/plain": [
       "                                      online_order  book_table  rating  votes  \\\n",
       "restaurants                                                                     \n",
       "#FeelTheROLL                                     2           2       2      2   \n",
       "#L-81 Cafe                                       9           9       9      9   \n",
       "#refuel                                          3           3       3      3   \n",
       "1000 B.C                                         6           6       6      6   \n",
       "100ÃÂÃÂÃÂÃÂÃÂÃÂÃÂÃÂ°C             3           3       3      3   \n",
       "\n",
       "                                      location  rest_type  food_type  cost  \\\n",
       "restaurants                                                                  \n",
       "#FeelTheROLL                                 2          2          2     2   \n",
       "#L-81 Cafe                                   9          9          9     9   \n",
       "#refuel                                      3          3          3     3   \n",
       "1000 B.C                                     6          6          6     6   \n",
       "100ÃÂÃÂÃÂÃÂÃÂÃÂÃÂÃÂ°C         3          3          3     3   \n",
       "\n",
       "                                      type  city  \n",
       "restaurants                                       \n",
       "#FeelTheROLL                             2     2  \n",
       "#L-81 Cafe                               9     9  \n",
       "#refuel                                  3     3  \n",
       "1000 B.C                                 6     6  \n",
       "100ÃÂÃÂÃÂÃÂÃÂÃÂÃÂÃÂ°C     3     3  "
      ]
     },
     "execution_count": 10,
     "metadata": {},
     "output_type": "execute_result"
    }
   ],
   "source": [
    "zmt.groupby('restaurants').count().head() # we are grouping the restaurants to see the restaurant names and their count."
   ]
  },
  {
   "cell_type": "markdown",
   "id": "ec5ca348",
   "metadata": {
    "papermill": {
     "duration": 0.022559,
     "end_time": "2023-01-20T09:04:06.521612",
     "exception": false,
     "start_time": "2023-01-20T09:04:06.499053",
     "status": "completed"
    },
    "tags": []
   },
   "source": [
    "Here we can see we are got restaurant names having disturbed characters\n",
    "\n",
    "so we need to remove that characters from the name using pattern matcing to get orignal names."
   ]
  },
  {
   "cell_type": "code",
   "execution_count": 11,
   "id": "edde1e58",
   "metadata": {
    "execution": {
     "iopub.execute_input": "2023-01-20T09:04:06.569210Z",
     "iopub.status.busy": "2023-01-20T09:04:06.568795Z",
     "iopub.status.idle": "2023-01-20T09:04:06.605971Z",
     "shell.execute_reply": "2023-01-20T09:04:06.605080Z"
    },
    "papermill": {
     "duration": 0.063892,
     "end_time": "2023-01-20T09:04:06.608513",
     "exception": false,
     "start_time": "2023-01-20T09:04:06.544621",
     "status": "completed"
    },
    "tags": []
   },
   "outputs": [],
   "source": [
    "# '[Ãx][^A-Za-z]+' pattern I got to find disturbed characters using regex.And Replacing those charachters with empty space. \n",
    "zmt['restaurants']=zmt['restaurants'].str.replace('[Ãx][^A-Za-z]+','',regex=True)\n"
   ]
  },
  {
   "cell_type": "code",
   "execution_count": 12,
   "id": "8ee007cf",
   "metadata": {
    "execution": {
     "iopub.execute_input": "2023-01-20T09:04:06.656107Z",
     "iopub.status.busy": "2023-01-20T09:04:06.655684Z",
     "iopub.status.idle": "2023-01-20T09:04:06.705030Z",
     "shell.execute_reply": "2023-01-20T09:04:06.703786Z"
    },
    "papermill": {
     "duration": 0.076061,
     "end_time": "2023-01-20T09:04:06.707583",
     "exception": false,
     "start_time": "2023-01-20T09:04:06.631522",
     "status": "completed"
    },
    "tags": []
   },
   "outputs": [
    {
     "data": {
      "text/html": [
       "<div>\n",
       "<style scoped>\n",
       "    .dataframe tbody tr th:only-of-type {\n",
       "        vertical-align: middle;\n",
       "    }\n",
       "\n",
       "    .dataframe tbody tr th {\n",
       "        vertical-align: top;\n",
       "    }\n",
       "\n",
       "    .dataframe thead th {\n",
       "        text-align: right;\n",
       "    }\n",
       "</style>\n",
       "<table border=\"1\" class=\"dataframe\">\n",
       "  <thead>\n",
       "    <tr style=\"text-align: right;\">\n",
       "      <th></th>\n",
       "      <th>online_order</th>\n",
       "      <th>book_table</th>\n",
       "      <th>rating</th>\n",
       "      <th>votes</th>\n",
       "      <th>location</th>\n",
       "      <th>rest_type</th>\n",
       "      <th>food_type</th>\n",
       "      <th>cost</th>\n",
       "      <th>type</th>\n",
       "      <th>city</th>\n",
       "    </tr>\n",
       "    <tr>\n",
       "      <th>restaurants</th>\n",
       "      <th></th>\n",
       "      <th></th>\n",
       "      <th></th>\n",
       "      <th></th>\n",
       "      <th></th>\n",
       "      <th></th>\n",
       "      <th></th>\n",
       "      <th></th>\n",
       "      <th></th>\n",
       "      <th></th>\n",
       "    </tr>\n",
       "  </thead>\n",
       "  <tbody>\n",
       "    <tr>\n",
       "      <th>#FeelTheROLL</th>\n",
       "      <td>2</td>\n",
       "      <td>2</td>\n",
       "      <td>2</td>\n",
       "      <td>2</td>\n",
       "      <td>2</td>\n",
       "      <td>2</td>\n",
       "      <td>2</td>\n",
       "      <td>2</td>\n",
       "      <td>2</td>\n",
       "      <td>2</td>\n",
       "    </tr>\n",
       "    <tr>\n",
       "      <th>#L-81 Cafe</th>\n",
       "      <td>9</td>\n",
       "      <td>9</td>\n",
       "      <td>9</td>\n",
       "      <td>9</td>\n",
       "      <td>9</td>\n",
       "      <td>9</td>\n",
       "      <td>9</td>\n",
       "      <td>9</td>\n",
       "      <td>9</td>\n",
       "      <td>9</td>\n",
       "    </tr>\n",
       "    <tr>\n",
       "      <th>#refuel</th>\n",
       "      <td>3</td>\n",
       "      <td>3</td>\n",
       "      <td>3</td>\n",
       "      <td>3</td>\n",
       "      <td>3</td>\n",
       "      <td>3</td>\n",
       "      <td>3</td>\n",
       "      <td>3</td>\n",
       "      <td>3</td>\n",
       "      <td>3</td>\n",
       "    </tr>\n",
       "    <tr>\n",
       "      <th>1000 B.C</th>\n",
       "      <td>6</td>\n",
       "      <td>6</td>\n",
       "      <td>6</td>\n",
       "      <td>6</td>\n",
       "      <td>6</td>\n",
       "      <td>6</td>\n",
       "      <td>6</td>\n",
       "      <td>6</td>\n",
       "      <td>6</td>\n",
       "      <td>6</td>\n",
       "    </tr>\n",
       "    <tr>\n",
       "      <th>100C</th>\n",
       "      <td>3</td>\n",
       "      <td>3</td>\n",
       "      <td>3</td>\n",
       "      <td>3</td>\n",
       "      <td>3</td>\n",
       "      <td>3</td>\n",
       "      <td>3</td>\n",
       "      <td>3</td>\n",
       "      <td>3</td>\n",
       "      <td>3</td>\n",
       "    </tr>\n",
       "  </tbody>\n",
       "</table>\n",
       "</div>"
      ],
      "text/plain": [
       "              online_order  book_table  rating  votes  location  rest_type  \\\n",
       "restaurants                                                                  \n",
       "#FeelTheROLL             2           2       2      2         2          2   \n",
       "#L-81 Cafe               9           9       9      9         9          9   \n",
       "#refuel                  3           3       3      3         3          3   \n",
       "1000 B.C                 6           6       6      6         6          6   \n",
       "100C                     3           3       3      3         3          3   \n",
       "\n",
       "              food_type  cost  type  city  \n",
       "restaurants                                \n",
       "#FeelTheROLL          2     2     2     2  \n",
       "#L-81 Cafe            9     9     9     9  \n",
       "#refuel               3     3     3     3  \n",
       "1000 B.C              6     6     6     6  \n",
       "100C                  3     3     3     3  "
      ]
     },
     "execution_count": 12,
     "metadata": {},
     "output_type": "execute_result"
    }
   ],
   "source": [
    "zmt.groupby('restaurants').count().head()"
   ]
  },
  {
   "cell_type": "markdown",
   "id": "7ec573f9",
   "metadata": {
    "papermill": {
     "duration": 0.022709,
     "end_time": "2023-01-20T09:04:06.753539",
     "exception": false,
     "start_time": "2023-01-20T09:04:06.730830",
     "status": "completed"
    },
    "tags": []
   },
   "source": [
    "Here see we successfully removed the disturbed characters from restaurant name(refer 5th row to see transformation)  \n",
    "\n",
    "By reading the databse I found the names having incorrect spell. Let me correct them as well. "
   ]
  },
  {
   "cell_type": "code",
   "execution_count": 13,
   "id": "ffe43eeb",
   "metadata": {
    "execution": {
     "iopub.execute_input": "2023-01-20T09:04:06.801079Z",
     "iopub.status.busy": "2023-01-20T09:04:06.800647Z",
     "iopub.status.idle": "2023-01-20T09:04:06.835581Z",
     "shell.execute_reply": "2023-01-20T09:04:06.834407Z"
    },
    "papermill": {
     "duration": 0.061393,
     "end_time": "2023-01-20T09:04:06.837931",
     "exception": false,
     "start_time": "2023-01-20T09:04:06.776538",
     "status": "completed"
    },
    "tags": []
   },
   "outputs": [],
   "source": [
    "zmt['restaurants']=zmt['restaurants'].str.replace('Caf-|Caf ','Cafe ',regex=True) # replacing the Caf- or Caf names with cafe using pattern matching"
   ]
  },
  {
   "cell_type": "markdown",
   "id": "aaf93792",
   "metadata": {
    "papermill": {
     "duration": 0.022569,
     "end_time": "2023-01-20T09:04:06.883665",
     "exception": false,
     "start_time": "2023-01-20T09:04:06.861096",
     "status": "completed"
    },
    "tags": []
   },
   "source": [
    "#### Column: 'online_order'\n",
    "\n",
    "Column shows that restaurants accepting online orders or not."
   ]
  },
  {
   "cell_type": "code",
   "execution_count": 14,
   "id": "51ad07cb",
   "metadata": {
    "execution": {
     "iopub.execute_input": "2023-01-20T09:04:06.931094Z",
     "iopub.status.busy": "2023-01-20T09:04:06.930681Z",
     "iopub.status.idle": "2023-01-20T09:04:06.940833Z",
     "shell.execute_reply": "2023-01-20T09:04:06.939731Z"
    },
    "papermill": {
     "duration": 0.036666,
     "end_time": "2023-01-20T09:04:06.943191",
     "exception": false,
     "start_time": "2023-01-20T09:04:06.906525",
     "status": "completed"
    },
    "tags": []
   },
   "outputs": [
    {
     "data": {
      "text/plain": [
       "array(['Yes', 'No'], dtype=object)"
      ]
     },
     "execution_count": 14,
     "metadata": {},
     "output_type": "execute_result"
    }
   ],
   "source": [
    "zmt['online_order'].unique() # Using .unique() we can find the unique values from column"
   ]
  },
  {
   "cell_type": "markdown",
   "id": "a3e876a6",
   "metadata": {
    "papermill": {
     "duration": 0.023204,
     "end_time": "2023-01-20T09:04:06.989561",
     "exception": false,
     "start_time": "2023-01-20T09:04:06.966357",
     "status": "completed"
    },
    "tags": []
   },
   "source": [
    "Here, we can see only Yes and No values are present so there is no need to clean the column."
   ]
  },
  {
   "cell_type": "markdown",
   "id": "ed677f86",
   "metadata": {
    "papermill": {
     "duration": 0.022599,
     "end_time": "2023-01-20T09:04:07.034922",
     "exception": false,
     "start_time": "2023-01-20T09:04:07.012323",
     "status": "completed"
    },
    "tags": []
   },
   "source": [
    "#### Column: 'book_table'\n",
    "\n",
    "Column shows that restaurants having table booking facility or not."
   ]
  },
  {
   "cell_type": "code",
   "execution_count": 15,
   "id": "1259b296",
   "metadata": {
    "execution": {
     "iopub.execute_input": "2023-01-20T09:04:07.082468Z",
     "iopub.status.busy": "2023-01-20T09:04:07.082050Z",
     "iopub.status.idle": "2023-01-20T09:04:07.092343Z",
     "shell.execute_reply": "2023-01-20T09:04:07.091236Z"
    },
    "papermill": {
     "duration": 0.036493,
     "end_time": "2023-01-20T09:04:07.094470",
     "exception": false,
     "start_time": "2023-01-20T09:04:07.057977",
     "status": "completed"
    },
    "tags": []
   },
   "outputs": [
    {
     "data": {
      "text/plain": [
       "array(['Yes', 'No'], dtype=object)"
      ]
     },
     "execution_count": 15,
     "metadata": {},
     "output_type": "execute_result"
    }
   ],
   "source": [
    "zmt['book_table'].unique()"
   ]
  },
  {
   "cell_type": "markdown",
   "id": "eb19ac2a",
   "metadata": {
    "papermill": {
     "duration": 0.023111,
     "end_time": "2023-01-20T09:04:07.141138",
     "exception": false,
     "start_time": "2023-01-20T09:04:07.118027",
     "status": "completed"
    },
    "tags": []
   },
   "source": [
    "Here also we got the same result so no need to perform any cleaning"
   ]
  },
  {
   "cell_type": "markdown",
   "id": "4040f8ad",
   "metadata": {
    "papermill": {
     "duration": 0.02292,
     "end_time": "2023-01-20T09:04:07.187647",
     "exception": false,
     "start_time": "2023-01-20T09:04:07.164727",
     "status": "completed"
    },
    "tags": []
   },
   "source": [
    "#### Column: 'rating'\n",
    "\n",
    "Column shows the rating of the hotel out of 5"
   ]
  },
  {
   "cell_type": "code",
   "execution_count": 16,
   "id": "669e7e63",
   "metadata": {
    "execution": {
     "iopub.execute_input": "2023-01-20T09:04:07.236261Z",
     "iopub.status.busy": "2023-01-20T09:04:07.235120Z",
     "iopub.status.idle": "2023-01-20T09:04:07.245472Z",
     "shell.execute_reply": "2023-01-20T09:04:07.244439Z"
    },
    "papermill": {
     "duration": 0.036895,
     "end_time": "2023-01-20T09:04:07.247775",
     "exception": false,
     "start_time": "2023-01-20T09:04:07.210880",
     "status": "completed"
    },
    "tags": []
   },
   "outputs": [
    {
     "data": {
      "text/plain": [
       "array(['4.1/5', '3.8/5', '3.7/5', '3.6/5', '4.6/5', '4.0/5', '4.2/5',\n",
       "       '3.9/5', '3.1/5', '3.0/5', '3.2/5', '3.3/5', '2.8/5', '4.4/5',\n",
       "       '4.3/5', 'NEW', '2.9/5', '3.5/5', '2.6/5', '3.8 /5', '3.4/5',\n",
       "       '4.5/5', '2.5/5', '2.7/5', '4.7/5', '2.4/5', '2.2/5', '2.3/5',\n",
       "       '3.4 /5', '-', '3.6 /5', '4.8/5', '3.9 /5', '4.2 /5', '4.0 /5',\n",
       "       '4.1 /5', '3.7 /5', '3.1 /5', '2.9 /5', '3.3 /5', '2.8 /5',\n",
       "       '3.5 /5', '2.7 /5', '2.5 /5', '3.2 /5', '2.6 /5', '4.5 /5',\n",
       "       '4.3 /5', '4.4 /5', '4.9/5', '2.1/5', '2.0/5', '1.8/5', '4.6 /5',\n",
       "       '4.9 /5', '3.0 /5', '4.8 /5', '2.3 /5', '4.7 /5', '2.4 /5',\n",
       "       '2.1 /5', '2.2 /5', '2.0 /5', '1.8 /5'], dtype=object)"
      ]
     },
     "execution_count": 16,
     "metadata": {},
     "output_type": "execute_result"
    }
   ],
   "source": [
    "zmt['rating'].unique()"
   ]
  },
  {
   "cell_type": "markdown",
   "id": "d8285595",
   "metadata": {
    "papermill": {
     "duration": 0.02349,
     "end_time": "2023-01-20T09:04:07.294788",
     "exception": false,
     "start_time": "2023-01-20T09:04:07.271298",
     "status": "completed"
    },
    "tags": []
   },
   "source": [
    "Here, we can see rating column having string values and having object datatype including 'NEW' and '-' values. we know that rating is always out of 5 and in decimal format. So, we need to clean our 'rating' columns.\n",
    "\n",
    "Need changes:\n",
    "* Remove 'NEW' and '-' values.\n",
    "* Remove '/5' from the rating.\n",
    "* Covert datatype object to float (float_datatype has decimal values).\n",
    "\n",
    "Try to do all changes in one block of code"
   ]
  },
  {
   "cell_type": "code",
   "execution_count": 17,
   "id": "2d376202",
   "metadata": {
    "execution": {
     "iopub.execute_input": "2023-01-20T09:04:07.344264Z",
     "iopub.status.busy": "2023-01-20T09:04:07.343520Z",
     "iopub.status.idle": "2023-01-20T09:04:07.392785Z",
     "shell.execute_reply": "2023-01-20T09:04:07.391603Z"
    },
    "papermill": {
     "duration": 0.07704,
     "end_time": "2023-01-20T09:04:07.395486",
     "exception": false,
     "start_time": "2023-01-20T09:04:07.318446",
     "status": "completed"
    },
    "tags": []
   },
   "outputs": [],
   "source": [
    "replace=lambda x:x.replace('/5',\"\") # lambda function to replace /5 to empty string\n",
    "l=[] # list to store cleaned values\n",
    "for val in map(replace, zmt['rating']): # map function to read data from column and replace /5 to empty string\n",
    "    if val!='NEW' and val!='-':  # excluding 'NEW' and '-' values\n",
    "        var=float(val) # converting the result in float datatype and storing into one variable\n",
    "    l.append(var) # appending cleaned values in created list\n",
    "zmt['rating']=l  # updating rating column with new and cleaned values"
   ]
  },
  {
   "cell_type": "code",
   "execution_count": 18,
   "id": "26f8870b",
   "metadata": {
    "execution": {
     "iopub.execute_input": "2023-01-20T09:04:07.445173Z",
     "iopub.status.busy": "2023-01-20T09:04:07.444744Z",
     "iopub.status.idle": "2023-01-20T09:04:07.454622Z",
     "shell.execute_reply": "2023-01-20T09:04:07.453372Z"
    },
    "papermill": {
     "duration": 0.037292,
     "end_time": "2023-01-20T09:04:07.456981",
     "exception": false,
     "start_time": "2023-01-20T09:04:07.419689",
     "status": "completed"
    },
    "tags": []
   },
   "outputs": [
    {
     "data": {
      "text/plain": [
       "(array([4.1, 3.8, 3.7, 3.6, 4.6, 4. , 4.2, 3.9, 3.1, 3. , 3.2, 3.3, 2.8,\n",
       "        4.4, 4.3, 2.9, 3.5, 2.6, 3.4, 4.5, 2.5, 2.7, 4.7, 2.4, 2.2, 2.3,\n",
       "        4.8, 4.9, 2.1, 2. , 1.8]),\n",
       " dtype('float64'))"
      ]
     },
     "execution_count": 18,
     "metadata": {},
     "output_type": "execute_result"
    }
   ],
   "source": [
    "zmt['rating'].unique(),zmt['rating'].dtype\n"
   ]
  },
  {
   "cell_type": "markdown",
   "id": "e0a7d080",
   "metadata": {
    "papermill": {
     "duration": 0.023961,
     "end_time": "2023-01-20T09:04:07.504825",
     "exception": false,
     "start_time": "2023-01-20T09:04:07.480864",
     "status": "completed"
    },
    "tags": []
   },
   "source": [
    "See we got the cleaned values with float datatype."
   ]
  },
  {
   "cell_type": "markdown",
   "id": "b71b8fa4",
   "metadata": {
    "papermill": {
     "duration": 0.02334,
     "end_time": "2023-01-20T09:04:07.551887",
     "exception": false,
     "start_time": "2023-01-20T09:04:07.528547",
     "status": "completed"
    },
    "tags": []
   },
   "source": [
    "#### Column: 'votes'\n",
    "\n",
    "Column contains number of votes hotel got."
   ]
  },
  {
   "cell_type": "code",
   "execution_count": 19,
   "id": "b0e45dda",
   "metadata": {
    "execution": {
     "iopub.execute_input": "2023-01-20T09:04:07.601873Z",
     "iopub.status.busy": "2023-01-20T09:04:07.601029Z",
     "iopub.status.idle": "2023-01-20T09:04:07.610292Z",
     "shell.execute_reply": "2023-01-20T09:04:07.609379Z"
    },
    "papermill": {
     "duration": 0.036759,
     "end_time": "2023-01-20T09:04:07.612521",
     "exception": false,
     "start_time": "2023-01-20T09:04:07.575762",
     "status": "completed"
    },
    "tags": []
   },
   "outputs": [
    {
     "data": {
      "text/plain": [
       "False    43533\n",
       "Name: votes, dtype: int64"
      ]
     },
     "execution_count": 19,
     "metadata": {},
     "output_type": "execute_result"
    }
   ],
   "source": [
    "zmt['votes'].isnull().value_counts() # checking column having null values or not using .isnull()"
   ]
  },
  {
   "cell_type": "markdown",
   "id": "cb03a798",
   "metadata": {
    "papermill": {
     "duration": 0.02334,
     "end_time": "2023-01-20T09:04:07.659739",
     "exception": false,
     "start_time": "2023-01-20T09:04:07.636399",
     "status": "completed"
    },
    "tags": []
   },
   "source": [
    "Here, we can see there is no null values and having correct datatype. So, no need to clean anything."
   ]
  },
  {
   "cell_type": "markdown",
   "id": "18becc8c",
   "metadata": {
    "papermill": {
     "duration": 0.02324,
     "end_time": "2023-01-20T09:04:07.706703",
     "exception": false,
     "start_time": "2023-01-20T09:04:07.683463",
     "status": "completed"
    },
    "tags": []
   },
   "source": [
    "#### Column: 'location'\n",
    "\n",
    "Column contains locations of restaurants."
   ]
  },
  {
   "cell_type": "code",
   "execution_count": 20,
   "id": "68442fb4",
   "metadata": {
    "execution": {
     "iopub.execute_input": "2023-01-20T09:04:07.756189Z",
     "iopub.status.busy": "2023-01-20T09:04:07.755386Z",
     "iopub.status.idle": "2023-01-20T09:04:07.767252Z",
     "shell.execute_reply": "2023-01-20T09:04:07.766242Z"
    },
    "papermill": {
     "duration": 0.03949,
     "end_time": "2023-01-20T09:04:07.769703",
     "exception": false,
     "start_time": "2023-01-20T09:04:07.730213",
     "status": "completed"
    },
    "tags": []
   },
   "outputs": [
    {
     "data": {
      "text/plain": [
       "array(['Banashankari', 'Basavanagudi', 'Mysore Road', 'Jayanagar',\n",
       "       'Kumaraswamy Layout', 'Rajarajeshwari Nagar', 'Vijay Nagar',\n",
       "       'Uttarahalli', 'JP Nagar', 'South Bangalore', 'City Market',\n",
       "       'Bannerghatta Road', 'BTM', 'Kanakapura Road', 'Bommanahalli',\n",
       "       'CV Raman Nagar', 'Electronic City', 'Wilson Garden',\n",
       "       'Shanti Nagar', 'Koramangala 5th Block', 'Richmond Road', 'HSR',\n",
       "       'Marathahalli', 'Koramangala 7th Block', 'Bellandur',\n",
       "       'Sarjapur Road', 'Whitefield', 'East Bangalore',\n",
       "       'Old Airport Road', 'Indiranagar', 'Koramangala 1st Block',\n",
       "       'Frazer Town', 'MG Road', 'Brigade Road', 'Lavelle Road',\n",
       "       'Church Street', 'Ulsoor', 'Residency Road', 'Shivajinagar',\n",
       "       'Infantry Road', 'St. Marks Road', 'Cunningham Road',\n",
       "       'Race Course Road', 'Commercial Street', 'Vasanth Nagar', 'Domlur',\n",
       "       'Koramangala 8th Block', 'Ejipura', 'Jeevan Bhima Nagar',\n",
       "       'Old Madras Road', 'Seshadripuram', 'Kammanahalli',\n",
       "       'Koramangala 6th Block', 'Majestic', 'Langford Town',\n",
       "       'Central Bangalore', 'Sanjay Nagar', 'Brookefield',\n",
       "       'ITPL Main Road, Whitefield', 'Varthur Main Road, Whitefield',\n",
       "       'Koramangala 2nd Block', 'Koramangala 3rd Block',\n",
       "       'Koramangala 4th Block', 'Koramangala', 'Hosur Road',\n",
       "       'Rajajinagar', 'RT Nagar', 'Banaswadi', 'North Bangalore',\n",
       "       'Nagawara', 'Hennur', 'Kalyan Nagar', 'HBR Layout',\n",
       "       'Rammurthy Nagar', 'Thippasandra', 'Kaggadasapura', 'Hebbal',\n",
       "       'Kengeri', 'New BEL Road', 'Sankey Road', 'Malleshwaram',\n",
       "       'Sadashiv Nagar', 'Basaveshwara Nagar', 'Yeshwantpur',\n",
       "       'West Bangalore', 'Magadi Road', 'Yelahanka', 'Sahakara Nagar',\n",
       "       'Jalahalli', 'Nagarbhavi', 'Peenya', 'KR Puram'], dtype=object)"
      ]
     },
     "execution_count": 20,
     "metadata": {},
     "output_type": "execute_result"
    }
   ],
   "source": [
    "zmt.location.unique() # This syntax is works similer like previous so don't be confuse."
   ]
  },
  {
   "cell_type": "markdown",
   "id": "ab176311",
   "metadata": {
    "papermill": {
     "duration": 0.023915,
     "end_time": "2023-01-20T09:04:07.817614",
     "exception": false,
     "start_time": "2023-01-20T09:04:07.793699",
     "status": "completed"
    },
    "tags": []
   },
   "source": [
    "Here, aslo all things are correct so no need to perform data cleaning"
   ]
  },
  {
   "cell_type": "markdown",
   "id": "1dd98dde",
   "metadata": {
    "papermill": {
     "duration": 0.023542,
     "end_time": "2023-01-20T09:04:07.865051",
     "exception": false,
     "start_time": "2023-01-20T09:04:07.841509",
     "status": "completed"
    },
    "tags": []
   },
   "source": [
    "#### Column: 'rest_type' and 'food_type'\n",
    "\n",
    "Columns shows that the restaurant types and which type of food restaurants have. "
   ]
  },
  {
   "cell_type": "code",
   "execution_count": 21,
   "id": "49503fe5",
   "metadata": {
    "execution": {
     "iopub.execute_input": "2023-01-20T09:04:07.914230Z",
     "iopub.status.busy": "2023-01-20T09:04:07.913821Z",
     "iopub.status.idle": "2023-01-20T09:04:07.928111Z",
     "shell.execute_reply": "2023-01-20T09:04:07.926996Z"
    },
    "papermill": {
     "duration": 0.041782,
     "end_time": "2023-01-20T09:04:07.930537",
     "exception": false,
     "start_time": "2023-01-20T09:04:07.888755",
     "status": "completed"
    },
    "tags": []
   },
   "outputs": [
    {
     "data": {
      "text/plain": [
       "(array(['Casual Dining', 'Cafe, Casual Dining', 'Quick Bites',\n",
       "        'Casual Dining, Cafe', 'Cafe', 'Quick Bites, Cafe',\n",
       "        'Cafe, Quick Bites', 'Delivery', 'Mess', 'Dessert Parlor',\n",
       "        'Bakery, Dessert Parlor', 'Pub', 'Bakery', 'Takeaway, Delivery',\n",
       "        'Fine Dining', 'Beverage Shop', 'Sweet Shop', 'Bar',\n",
       "        'Dessert Parlor, Sweet Shop', 'Bakery, Quick Bites',\n",
       "        'Sweet Shop, Quick Bites', 'Kiosk', 'Food Truck',\n",
       "        'Quick Bites, Dessert Parlor', 'Beverage Shop, Quick Bites',\n",
       "        'Beverage Shop, Dessert Parlor', 'Takeaway', 'Pub, Casual Dining',\n",
       "        'Casual Dining, Bar', 'Dessert Parlor, Beverage Shop',\n",
       "        'Quick Bites, Bakery', 'Microbrewery, Casual Dining', 'Lounge',\n",
       "        'Bar, Casual Dining', 'Food Court', 'Cafe, Bakery', 'Dhaba',\n",
       "        'Quick Bites, Sweet Shop', 'Microbrewery',\n",
       "        'Food Court, Quick Bites', 'Quick Bites, Beverage Shop',\n",
       "        'Pub, Bar', 'Casual Dining, Pub', 'Lounge, Bar',\n",
       "        'Dessert Parlor, Quick Bites', 'Food Court, Dessert Parlor',\n",
       "        'Casual Dining, Sweet Shop', 'Food Court, Casual Dining',\n",
       "        'Casual Dining, Microbrewery', 'Lounge, Casual Dining',\n",
       "        'Cafe, Food Court', 'Beverage Shop, Cafe', 'Cafe, Dessert Parlor',\n",
       "        'Dessert Parlor, Cafe', 'Dessert Parlor, Bakery',\n",
       "        'Microbrewery, Pub', 'Bakery, Food Court', 'Club',\n",
       "        'Quick Bites, Food Court', 'Bakery, Cafe', 'Pub, Cafe',\n",
       "        'Casual Dining, Irani Cafee', 'Fine Dining, Lounge',\n",
       "        'Bar, Quick Bites', 'Confectionery', 'Pub, Microbrewery',\n",
       "        'Microbrewery, Lounge', 'Fine Dining, Microbrewery',\n",
       "        'Fine Dining, Bar', 'Dessert Parlor, Kiosk', 'Bhojanalya',\n",
       "        'Casual Dining, Quick Bites', 'Cafe, Bar', 'Casual Dining, Lounge',\n",
       "        'Bakery, Beverage Shop', 'Microbrewery, Bar', 'Cafe, Lounge',\n",
       "        'Bar, Pub', 'Lounge, Cafe', 'Club, Casual Dining',\n",
       "        'Quick Bites, Mess', 'Quick Bites, Meat Shop',\n",
       "        'Quick Bites, Kiosk', 'Lounge, Microbrewery',\n",
       "        'Food Court, Beverage Shop', 'Dessert Parlor, Food Court',\n",
       "        'Bar, Lounge'], dtype=object),\n",
       " False    43533\n",
       " Name: rest_type, dtype: int64)"
      ]
     },
     "execution_count": 21,
     "metadata": {},
     "output_type": "execute_result"
    }
   ],
   "source": [
    "zmt.rest_type.unique(), zmt.rest_type.isnull().value_counts()"
   ]
  },
  {
   "cell_type": "code",
   "execution_count": 22,
   "id": "0000bed8",
   "metadata": {
    "execution": {
     "iopub.execute_input": "2023-01-20T09:04:07.980414Z",
     "iopub.status.busy": "2023-01-20T09:04:07.980003Z",
     "iopub.status.idle": "2023-01-20T09:04:07.999655Z",
     "shell.execute_reply": "2023-01-20T09:04:07.998529Z"
    },
    "papermill": {
     "duration": 0.047088,
     "end_time": "2023-01-20T09:04:08.001863",
     "exception": false,
     "start_time": "2023-01-20T09:04:07.954775",
     "status": "completed"
    },
    "tags": []
   },
   "outputs": [
    {
     "data": {
      "text/plain": [
       "(array(['North Indian, Mughlai, Chinese', 'Chinese, North Indian, Thai',\n",
       "        'Cafe, Mexican, Italian', ..., 'Tibetan, Nepalese',\n",
       "        'North Indian, Street Food, Biryani',\n",
       "        'North Indian, Chinese, Arabian, Momos'], dtype=object),\n",
       " False    43533\n",
       " Name: food_type, dtype: int64)"
      ]
     },
     "execution_count": 22,
     "metadata": {},
     "output_type": "execute_result"
    }
   ],
   "source": [
    "zmt.food_type.unique(), zmt.food_type.isnull().value_counts()"
   ]
  },
  {
   "cell_type": "markdown",
   "id": "b6ed30b0",
   "metadata": {
    "papermill": {
     "duration": 0.023705,
     "end_time": "2023-01-20T09:04:08.050234",
     "exception": false,
     "start_time": "2023-01-20T09:04:08.026529",
     "status": "completed"
    },
    "tags": []
   },
   "source": [
    "As we see column 'rest_type' and 'food_type' are aslo correct so no need to perform any cleaning operations."
   ]
  },
  {
   "cell_type": "markdown",
   "id": "c337a4c0",
   "metadata": {
    "papermill": {
     "duration": 0.024389,
     "end_time": "2023-01-20T09:04:08.099600",
     "exception": false,
     "start_time": "2023-01-20T09:04:08.075211",
     "status": "completed"
    },
    "tags": []
   },
   "source": [
    "#### Column: 'cost'\n",
    "\n",
    "Column contains approximate cost for two people."
   ]
  },
  {
   "cell_type": "code",
   "execution_count": 23,
   "id": "90f1bf20",
   "metadata": {
    "execution": {
     "iopub.execute_input": "2023-01-20T09:04:08.149837Z",
     "iopub.status.busy": "2023-01-20T09:04:08.149405Z",
     "iopub.status.idle": "2023-01-20T09:04:08.159328Z",
     "shell.execute_reply": "2023-01-20T09:04:08.158240Z"
    },
    "papermill": {
     "duration": 0.037747,
     "end_time": "2023-01-20T09:04:08.161679",
     "exception": false,
     "start_time": "2023-01-20T09:04:08.123932",
     "status": "completed"
    },
    "tags": []
   },
   "outputs": [
    {
     "data": {
      "text/plain": [
       "array(['800', '300', '600', '700', '550', '500', '450', '650', '400',\n",
       "       '900', '200', '750', '150', '850', '100', '1,200', '350', '250',\n",
       "       '950', '1,000', '1,500', '1,300', '199', '80', '1,100', '160',\n",
       "       '1,600', '230', '130', '1,700', '1,400', '1,350', '2,200', '2,000',\n",
       "       '1,800', '1,900', '180', '330', '2,500', '2,100', '3,000', '2,800',\n",
       "       '3,400', '50', '40', '1,250', '3,500', '4,000', '2,400', '2,600',\n",
       "       '1,450', '70', '3,200', '560', '240', '360', '6,000', '1,050',\n",
       "       '2,300', '4,100', '120', '5,000', '3,700', '1,650', '2,700',\n",
       "       '4,500'], dtype=object)"
      ]
     },
     "execution_count": 23,
     "metadata": {},
     "output_type": "execute_result"
    }
   ],
   "source": [
    "zmt.cost.unique()"
   ]
  },
  {
   "cell_type": "markdown",
   "id": "db6ce3b9",
   "metadata": {
    "papermill": {
     "duration": 0.024052,
     "end_time": "2023-01-20T09:04:08.210931",
     "exception": false,
     "start_time": "2023-01-20T09:04:08.186879",
     "status": "completed"
    },
    "tags": []
   },
   "source": [
    "Here see cost column string values with ',' values. And we know cost is always in int sp we need to make some transformations.\n",
    "\n",
    "Changes need:\n",
    "* Remove ',' from values\n",
    "* Change datatype object to integer(int)"
   ]
  },
  {
   "cell_type": "code",
   "execution_count": 24,
   "id": "da152259",
   "metadata": {
    "execution": {
     "iopub.execute_input": "2023-01-20T09:04:08.261117Z",
     "iopub.status.busy": "2023-01-20T09:04:08.260721Z",
     "iopub.status.idle": "2023-01-20T09:04:08.290754Z",
     "shell.execute_reply": "2023-01-20T09:04:08.289512Z"
    },
    "papermill": {
     "duration": 0.058234,
     "end_time": "2023-01-20T09:04:08.293545",
     "exception": false,
     "start_time": "2023-01-20T09:04:08.235311",
     "status": "completed"
    },
    "tags": []
   },
   "outputs": [],
   "source": [
    "zmt['cost']= zmt['cost'].apply(lambda x:x.replace(\",\",\"\")).astype(int) # we can also apply lambda function using .apply()"
   ]
  },
  {
   "cell_type": "code",
   "execution_count": 25,
   "id": "67a16b6f",
   "metadata": {
    "execution": {
     "iopub.execute_input": "2023-01-20T09:04:08.344698Z",
     "iopub.status.busy": "2023-01-20T09:04:08.344316Z",
     "iopub.status.idle": "2023-01-20T09:04:08.353974Z",
     "shell.execute_reply": "2023-01-20T09:04:08.352878Z"
    },
    "papermill": {
     "duration": 0.037622,
     "end_time": "2023-01-20T09:04:08.356249",
     "exception": false,
     "start_time": "2023-01-20T09:04:08.318627",
     "status": "completed"
    },
    "tags": []
   },
   "outputs": [
    {
     "data": {
      "text/plain": [
       "(array([ 800,  300,  600,  700,  550,  500,  450,  650,  400,  900,  200,\n",
       "         750,  150,  850,  100, 1200,  350,  250,  950, 1000, 1500, 1300,\n",
       "         199,   80, 1100,  160, 1600,  230,  130, 1700, 1400, 1350, 2200,\n",
       "        2000, 1800, 1900,  180,  330, 2500, 2100, 3000, 2800, 3400,   50,\n",
       "          40, 1250, 3500, 4000, 2400, 2600, 1450,   70, 3200,  560,  240,\n",
       "         360, 6000, 1050, 2300, 4100,  120, 5000, 3700, 1650, 2700, 4500]),\n",
       " dtype('int64'))"
      ]
     },
     "execution_count": 25,
     "metadata": {},
     "output_type": "execute_result"
    }
   ],
   "source": [
    "zmt.cost.unique(),zmt.cost.dtype"
   ]
  },
  {
   "cell_type": "markdown",
   "id": "a7e39894",
   "metadata": {
    "papermill": {
     "duration": 0.024117,
     "end_time": "2023-01-20T09:04:08.404809",
     "exception": false,
     "start_time": "2023-01-20T09:04:08.380692",
     "status": "completed"
    },
    "tags": []
   },
   "source": [
    "Here, Using lambda function we replaced ',' to empty string and using astype(int) we converted datatype object to int and update in the cost column and we got cleaned data."
   ]
  },
  {
   "cell_type": "markdown",
   "id": "b82fab79",
   "metadata": {
    "papermill": {
     "duration": 0.024036,
     "end_time": "2023-01-20T09:04:08.453100",
     "exception": false,
     "start_time": "2023-01-20T09:04:08.429064",
     "status": "completed"
    },
    "tags": []
   },
   "source": [
    "#### Column: 'type'\n",
    "Column shows which types of arrangment restaurant have."
   ]
  },
  {
   "cell_type": "code",
   "execution_count": 26,
   "id": "3654ac29",
   "metadata": {
    "execution": {
     "iopub.execute_input": "2023-01-20T09:04:08.504403Z",
     "iopub.status.busy": "2023-01-20T09:04:08.503346Z",
     "iopub.status.idle": "2023-01-20T09:04:08.513490Z",
     "shell.execute_reply": "2023-01-20T09:04:08.512505Z"
    },
    "papermill": {
     "duration": 0.038015,
     "end_time": "2023-01-20T09:04:08.515712",
     "exception": false,
     "start_time": "2023-01-20T09:04:08.477697",
     "status": "completed"
    },
    "tags": []
   },
   "outputs": [
    {
     "data": {
      "text/plain": [
       "array(['Buffet', 'Cafes', 'Delivery', 'Desserts', 'Dine-out',\n",
       "       'Drinks & nightlife', 'Pubs and bars'], dtype=object)"
      ]
     },
     "execution_count": 26,
     "metadata": {},
     "output_type": "execute_result"
    }
   ],
   "source": [
    "zmt.type.unique()"
   ]
  },
  {
   "cell_type": "markdown",
   "id": "7eb593bd",
   "metadata": {
    "papermill": {
     "duration": 0.02416,
     "end_time": "2023-01-20T09:04:08.564668",
     "exception": false,
     "start_time": "2023-01-20T09:04:08.540508",
     "status": "completed"
    },
    "tags": []
   },
   "source": [
    "Here also all values are correct and having correct datatype so no need to perform cleaning."
   ]
  },
  {
   "cell_type": "markdown",
   "id": "669cd5e1",
   "metadata": {
    "papermill": {
     "duration": 0.024947,
     "end_time": "2023-01-20T09:04:08.616821",
     "exception": false,
     "start_time": "2023-01-20T09:04:08.591874",
     "status": "completed"
    },
    "tags": []
   },
   "source": [
    "#### Column: 'city'\n",
    "Column contains name of cities of restaurants"
   ]
  },
  {
   "cell_type": "code",
   "execution_count": 27,
   "id": "083164b5",
   "metadata": {
    "execution": {
     "iopub.execute_input": "2023-01-20T09:04:08.667462Z",
     "iopub.status.busy": "2023-01-20T09:04:08.667042Z",
     "iopub.status.idle": "2023-01-20T09:04:08.677205Z",
     "shell.execute_reply": "2023-01-20T09:04:08.676233Z"
    },
    "papermill": {
     "duration": 0.038048,
     "end_time": "2023-01-20T09:04:08.679336",
     "exception": false,
     "start_time": "2023-01-20T09:04:08.641288",
     "status": "completed"
    },
    "tags": []
   },
   "outputs": [
    {
     "data": {
      "text/plain": [
       "array(['Banashankari', 'Bannerghatta Road', 'Basavanagudi', 'Bellandur',\n",
       "       'Brigade Road', 'Brookefield', 'BTM', 'Church Street',\n",
       "       'Electronic City', 'Frazer Town', 'HSR', 'Indiranagar',\n",
       "       'Jayanagar', 'JP Nagar', 'Kalyan Nagar', 'Kammanahalli',\n",
       "       'Koramangala 4th Block', 'Koramangala 5th Block',\n",
       "       'Koramangala 6th Block', 'Koramangala 7th Block', 'Lavelle Road',\n",
       "       'Malleshwaram', 'Marathahalli', 'MG Road', 'New BEL Road',\n",
       "       'Old Airport Road', 'Rajajinagar', 'Residency Road',\n",
       "       'Sarjapur Road', 'Whitefield'], dtype=object)"
      ]
     },
     "execution_count": 27,
     "metadata": {},
     "output_type": "execute_result"
    }
   ],
   "source": [
    "zmt.city.unique()"
   ]
  },
  {
   "cell_type": "markdown",
   "id": "3c77707c",
   "metadata": {
    "papermill": {
     "duration": 0.024668,
     "end_time": "2023-01-20T09:04:08.728804",
     "exception": false,
     "start_time": "2023-01-20T09:04:08.704136",
     "status": "completed"
    },
    "tags": []
   },
   "source": [
    "Here also all values are correct and having correct datatype so no need to perform cleaning."
   ]
  },
  {
   "cell_type": "markdown",
   "id": "94245c14",
   "metadata": {
    "papermill": {
     "duration": 0.024066,
     "end_time": "2023-01-20T09:04:08.777366",
     "exception": false,
     "start_time": "2023-01-20T09:04:08.753300",
     "status": "completed"
    },
    "tags": []
   },
   "source": []
  },
  {
   "cell_type": "markdown",
   "id": "a1f334b4",
   "metadata": {
    "papermill": {
     "duration": 0.024619,
     "end_time": "2023-01-20T09:04:08.826397",
     "exception": false,
     "start_time": "2023-01-20T09:04:08.801778",
     "status": "completed"
    },
    "tags": []
   },
   "source": [
    "## Droping Duplicates\n",
    "\n",
    "Dropping duplicates means we are removing repeated values or duplicate values from the dataset."
   ]
  },
  {
   "cell_type": "code",
   "execution_count": 28,
   "id": "da08105c",
   "metadata": {
    "execution": {
     "iopub.execute_input": "2023-01-20T09:04:08.877302Z",
     "iopub.status.busy": "2023-01-20T09:04:08.876888Z",
     "iopub.status.idle": "2023-01-20T09:04:08.924104Z",
     "shell.execute_reply": "2023-01-20T09:04:08.923054Z"
    },
    "papermill": {
     "duration": 0.075609,
     "end_time": "2023-01-20T09:04:08.926560",
     "exception": false,
     "start_time": "2023-01-20T09:04:08.850951",
     "status": "completed"
    },
    "tags": []
   },
   "outputs": [
    {
     "data": {
      "text/plain": [
       "False    43453\n",
       "True        80\n",
       "dtype: int64"
      ]
     },
     "execution_count": 28,
     "metadata": {},
     "output_type": "execute_result"
    }
   ],
   "source": [
    "zmt.duplicated().value_counts() # by using .duplicated() we can see duplicate values from our dataset."
   ]
  },
  {
   "cell_type": "markdown",
   "id": "2deb0e5f",
   "metadata": {
    "papermill": {
     "duration": 0.025239,
     "end_time": "2023-01-20T09:04:08.977260",
     "exception": false,
     "start_time": "2023-01-20T09:04:08.952021",
     "status": "completed"
    },
    "tags": []
   },
   "source": [
    "We got 80 duplicate values in our dataset we need to remove those."
   ]
  },
  {
   "cell_type": "code",
   "execution_count": 29,
   "id": "e0d45a10",
   "metadata": {
    "execution": {
     "iopub.execute_input": "2023-01-20T09:04:09.029697Z",
     "iopub.status.busy": "2023-01-20T09:04:09.029289Z",
     "iopub.status.idle": "2023-01-20T09:04:09.080510Z",
     "shell.execute_reply": "2023-01-20T09:04:09.079514Z"
    },
    "papermill": {
     "duration": 0.080256,
     "end_time": "2023-01-20T09:04:09.083594",
     "exception": false,
     "start_time": "2023-01-20T09:04:09.003338",
     "status": "completed"
    },
    "tags": []
   },
   "outputs": [],
   "source": [
    "zmt.drop_duplicates(keep='last',inplace=True)# dropping duplicates values using .drop_duplicates()\n",
    "zmt.reset_index(drop=True,inplace=True) # reseting index"
   ]
  },
  {
   "cell_type": "code",
   "execution_count": 30,
   "id": "9ddd4aa3",
   "metadata": {
    "execution": {
     "iopub.execute_input": "2023-01-20T09:04:09.135364Z",
     "iopub.status.busy": "2023-01-20T09:04:09.134952Z",
     "iopub.status.idle": "2023-01-20T09:04:09.182272Z",
     "shell.execute_reply": "2023-01-20T09:04:09.181038Z"
    },
    "papermill": {
     "duration": 0.075716,
     "end_time": "2023-01-20T09:04:09.184469",
     "exception": false,
     "start_time": "2023-01-20T09:04:09.108753",
     "status": "completed"
    },
    "tags": []
   },
   "outputs": [
    {
     "data": {
      "text/plain": [
       "False    43453\n",
       "dtype: int64"
      ]
     },
     "execution_count": 30,
     "metadata": {},
     "output_type": "execute_result"
    }
   ],
   "source": [
    "zmt.duplicated().value_counts()"
   ]
  },
  {
   "cell_type": "markdown",
   "id": "db110c68",
   "metadata": {
    "papermill": {
     "duration": 0.024396,
     "end_time": "2023-01-20T09:04:09.233784",
     "exception": false,
     "start_time": "2023-01-20T09:04:09.209388",
     "status": "completed"
    },
    "tags": []
   },
   "source": [
    "As a final step we removed all duplicate values from our dataset and we got fully cleaned data."
   ]
  },
  {
   "cell_type": "code",
   "execution_count": 31,
   "id": "37420afc",
   "metadata": {
    "execution": {
     "iopub.execute_input": "2023-01-20T09:04:09.284270Z",
     "iopub.status.busy": "2023-01-20T09:04:09.283874Z",
     "iopub.status.idle": "2023-01-20T09:04:09.309404Z",
     "shell.execute_reply": "2023-01-20T09:04:09.308067Z"
    },
    "papermill": {
     "duration": 0.053858,
     "end_time": "2023-01-20T09:04:09.312105",
     "exception": false,
     "start_time": "2023-01-20T09:04:09.258247",
     "status": "completed"
    },
    "tags": []
   },
   "outputs": [
    {
     "data": {
      "text/html": [
       "<div>\n",
       "<style scoped>\n",
       "    .dataframe tbody tr th:only-of-type {\n",
       "        vertical-align: middle;\n",
       "    }\n",
       "\n",
       "    .dataframe tbody tr th {\n",
       "        vertical-align: top;\n",
       "    }\n",
       "\n",
       "    .dataframe thead th {\n",
       "        text-align: right;\n",
       "    }\n",
       "</style>\n",
       "<table border=\"1\" class=\"dataframe\">\n",
       "  <thead>\n",
       "    <tr style=\"text-align: right;\">\n",
       "      <th></th>\n",
       "      <th>restaurants</th>\n",
       "      <th>online_order</th>\n",
       "      <th>book_table</th>\n",
       "      <th>rating</th>\n",
       "      <th>votes</th>\n",
       "      <th>location</th>\n",
       "      <th>rest_type</th>\n",
       "      <th>food_type</th>\n",
       "      <th>cost</th>\n",
       "      <th>type</th>\n",
       "      <th>city</th>\n",
       "    </tr>\n",
       "  </thead>\n",
       "  <tbody>\n",
       "    <tr>\n",
       "      <th>0</th>\n",
       "      <td>Jalsa</td>\n",
       "      <td>Yes</td>\n",
       "      <td>Yes</td>\n",
       "      <td>4.1</td>\n",
       "      <td>775</td>\n",
       "      <td>Banashankari</td>\n",
       "      <td>Casual Dining</td>\n",
       "      <td>North Indian, Mughlai, Chinese</td>\n",
       "      <td>800</td>\n",
       "      <td>Buffet</td>\n",
       "      <td>Banashankari</td>\n",
       "    </tr>\n",
       "    <tr>\n",
       "      <th>1</th>\n",
       "      <td>Spice Elephant</td>\n",
       "      <td>Yes</td>\n",
       "      <td>No</td>\n",
       "      <td>4.1</td>\n",
       "      <td>787</td>\n",
       "      <td>Banashankari</td>\n",
       "      <td>Casual Dining</td>\n",
       "      <td>Chinese, North Indian, Thai</td>\n",
       "      <td>800</td>\n",
       "      <td>Buffet</td>\n",
       "      <td>Banashankari</td>\n",
       "    </tr>\n",
       "    <tr>\n",
       "      <th>2</th>\n",
       "      <td>San Churro Cafe</td>\n",
       "      <td>Yes</td>\n",
       "      <td>No</td>\n",
       "      <td>3.8</td>\n",
       "      <td>918</td>\n",
       "      <td>Banashankari</td>\n",
       "      <td>Cafe, Casual Dining</td>\n",
       "      <td>Cafe, Mexican, Italian</td>\n",
       "      <td>800</td>\n",
       "      <td>Buffet</td>\n",
       "      <td>Banashankari</td>\n",
       "    </tr>\n",
       "    <tr>\n",
       "      <th>3</th>\n",
       "      <td>Addhuri Udupi Bhojana</td>\n",
       "      <td>No</td>\n",
       "      <td>No</td>\n",
       "      <td>3.7</td>\n",
       "      <td>88</td>\n",
       "      <td>Banashankari</td>\n",
       "      <td>Quick Bites</td>\n",
       "      <td>South Indian, North Indian</td>\n",
       "      <td>300</td>\n",
       "      <td>Buffet</td>\n",
       "      <td>Banashankari</td>\n",
       "    </tr>\n",
       "    <tr>\n",
       "      <th>4</th>\n",
       "      <td>Grand Village</td>\n",
       "      <td>No</td>\n",
       "      <td>No</td>\n",
       "      <td>3.8</td>\n",
       "      <td>166</td>\n",
       "      <td>Basavanagudi</td>\n",
       "      <td>Casual Dining</td>\n",
       "      <td>North Indian, Rajasthani</td>\n",
       "      <td>600</td>\n",
       "      <td>Buffet</td>\n",
       "      <td>Banashankari</td>\n",
       "    </tr>\n",
       "    <tr>\n",
       "      <th>...</th>\n",
       "      <td>...</td>\n",
       "      <td>...</td>\n",
       "      <td>...</td>\n",
       "      <td>...</td>\n",
       "      <td>...</td>\n",
       "      <td>...</td>\n",
       "      <td>...</td>\n",
       "      <td>...</td>\n",
       "      <td>...</td>\n",
       "      <td>...</td>\n",
       "      <td>...</td>\n",
       "    </tr>\n",
       "    <tr>\n",
       "      <th>43448</th>\n",
       "      <td>The Farm House Bar n Grill</td>\n",
       "      <td>No</td>\n",
       "      <td>No</td>\n",
       "      <td>3.7</td>\n",
       "      <td>34</td>\n",
       "      <td>Whitefield</td>\n",
       "      <td>Casual Dining, Bar</td>\n",
       "      <td>North Indian, Continental</td>\n",
       "      <td>800</td>\n",
       "      <td>Pubs and bars</td>\n",
       "      <td>Whitefield</td>\n",
       "    </tr>\n",
       "    <tr>\n",
       "      <th>43449</th>\n",
       "      <td>Bhagini</td>\n",
       "      <td>No</td>\n",
       "      <td>No</td>\n",
       "      <td>2.5</td>\n",
       "      <td>81</td>\n",
       "      <td>Whitefield</td>\n",
       "      <td>Casual Dining, Bar</td>\n",
       "      <td>Andhra, South Indian, Chinese, North Indian</td>\n",
       "      <td>800</td>\n",
       "      <td>Pubs and bars</td>\n",
       "      <td>Whitefield</td>\n",
       "    </tr>\n",
       "    <tr>\n",
       "      <th>43450</th>\n",
       "      <td>Best Brews - Four Points by Sheraton Bengaluru...</td>\n",
       "      <td>No</td>\n",
       "      <td>No</td>\n",
       "      <td>3.6</td>\n",
       "      <td>27</td>\n",
       "      <td>Whitefield</td>\n",
       "      <td>Bar</td>\n",
       "      <td>Continental</td>\n",
       "      <td>1500</td>\n",
       "      <td>Pubs and bars</td>\n",
       "      <td>Whitefield</td>\n",
       "    </tr>\n",
       "    <tr>\n",
       "      <th>43451</th>\n",
       "      <td>Chime - Sheraton Grand Bengaluru Whitefield Ho...</td>\n",
       "      <td>No</td>\n",
       "      <td>Yes</td>\n",
       "      <td>4.3</td>\n",
       "      <td>236</td>\n",
       "      <td>ITPL Main Road, Whitefield</td>\n",
       "      <td>Bar</td>\n",
       "      <td>Finger Food</td>\n",
       "      <td>2500</td>\n",
       "      <td>Pubs and bars</td>\n",
       "      <td>Whitefield</td>\n",
       "    </tr>\n",
       "    <tr>\n",
       "      <th>43452</th>\n",
       "      <td>The Nest - The Den Bengaluru</td>\n",
       "      <td>No</td>\n",
       "      <td>No</td>\n",
       "      <td>3.4</td>\n",
       "      <td>13</td>\n",
       "      <td>ITPL Main Road, Whitefield</td>\n",
       "      <td>Bar, Casual Dining</td>\n",
       "      <td>Finger Food, North Indian, Continental</td>\n",
       "      <td>1500</td>\n",
       "      <td>Pubs and bars</td>\n",
       "      <td>Whitefield</td>\n",
       "    </tr>\n",
       "  </tbody>\n",
       "</table>\n",
       "<p>43453 rows × 11 columns</p>\n",
       "</div>"
      ],
      "text/plain": [
       "                                             restaurants online_order  \\\n",
       "0                                                  Jalsa          Yes   \n",
       "1                                         Spice Elephant          Yes   \n",
       "2                                        San Churro Cafe          Yes   \n",
       "3                                  Addhuri Udupi Bhojana           No   \n",
       "4                                          Grand Village           No   \n",
       "...                                                  ...          ...   \n",
       "43448                         The Farm House Bar n Grill           No   \n",
       "43449                                            Bhagini           No   \n",
       "43450  Best Brews - Four Points by Sheraton Bengaluru...           No   \n",
       "43451  Chime - Sheraton Grand Bengaluru Whitefield Ho...           No   \n",
       "43452                       The Nest - The Den Bengaluru           No   \n",
       "\n",
       "      book_table  rating  votes                    location  \\\n",
       "0            Yes     4.1    775                Banashankari   \n",
       "1             No     4.1    787                Banashankari   \n",
       "2             No     3.8    918                Banashankari   \n",
       "3             No     3.7     88                Banashankari   \n",
       "4             No     3.8    166                Basavanagudi   \n",
       "...          ...     ...    ...                         ...   \n",
       "43448         No     3.7     34                  Whitefield   \n",
       "43449         No     2.5     81                  Whitefield   \n",
       "43450         No     3.6     27                  Whitefield   \n",
       "43451        Yes     4.3    236  ITPL Main Road, Whitefield   \n",
       "43452         No     3.4     13  ITPL Main Road, Whitefield   \n",
       "\n",
       "                 rest_type                                    food_type  cost  \\\n",
       "0            Casual Dining               North Indian, Mughlai, Chinese   800   \n",
       "1            Casual Dining                  Chinese, North Indian, Thai   800   \n",
       "2      Cafe, Casual Dining                       Cafe, Mexican, Italian   800   \n",
       "3              Quick Bites                   South Indian, North Indian   300   \n",
       "4            Casual Dining                     North Indian, Rajasthani   600   \n",
       "...                    ...                                          ...   ...   \n",
       "43448   Casual Dining, Bar                    North Indian, Continental   800   \n",
       "43449   Casual Dining, Bar  Andhra, South Indian, Chinese, North Indian   800   \n",
       "43450                  Bar                                  Continental  1500   \n",
       "43451                  Bar                                  Finger Food  2500   \n",
       "43452   Bar, Casual Dining       Finger Food, North Indian, Continental  1500   \n",
       "\n",
       "                type          city  \n",
       "0             Buffet  Banashankari  \n",
       "1             Buffet  Banashankari  \n",
       "2             Buffet  Banashankari  \n",
       "3             Buffet  Banashankari  \n",
       "4             Buffet  Banashankari  \n",
       "...              ...           ...  \n",
       "43448  Pubs and bars    Whitefield  \n",
       "43449  Pubs and bars    Whitefield  \n",
       "43450  Pubs and bars    Whitefield  \n",
       "43451  Pubs and bars    Whitefield  \n",
       "43452  Pubs and bars    Whitefield  \n",
       "\n",
       "[43453 rows x 11 columns]"
      ]
     },
     "execution_count": 31,
     "metadata": {},
     "output_type": "execute_result"
    }
   ],
   "source": [
    "zmt"
   ]
  },
  {
   "cell_type": "code",
   "execution_count": 32,
   "id": "2ce9dd05",
   "metadata": {
    "execution": {
     "iopub.execute_input": "2023-01-20T09:04:09.364817Z",
     "iopub.status.busy": "2023-01-20T09:04:09.364122Z",
     "iopub.status.idle": "2023-01-20T09:04:09.392700Z",
     "shell.execute_reply": "2023-01-20T09:04:09.391389Z"
    },
    "papermill": {
     "duration": 0.057162,
     "end_time": "2023-01-20T09:04:09.395089",
     "exception": false,
     "start_time": "2023-01-20T09:04:09.337927",
     "status": "completed"
    },
    "tags": []
   },
   "outputs": [
    {
     "name": "stdout",
     "output_type": "stream",
     "text": [
      "<class 'pandas.core.frame.DataFrame'>\n",
      "RangeIndex: 43453 entries, 0 to 43452\n",
      "Data columns (total 11 columns):\n",
      " #   Column        Non-Null Count  Dtype  \n",
      "---  ------        --------------  -----  \n",
      " 0   restaurants   43453 non-null  object \n",
      " 1   online_order  43453 non-null  object \n",
      " 2   book_table    43453 non-null  object \n",
      " 3   rating        43453 non-null  float64\n",
      " 4   votes         43453 non-null  int64  \n",
      " 5   location      43453 non-null  object \n",
      " 6   rest_type     43453 non-null  object \n",
      " 7   food_type     43453 non-null  object \n",
      " 8   cost          43453 non-null  int64  \n",
      " 9   type          43453 non-null  object \n",
      " 10  city          43453 non-null  object \n",
      "dtypes: float64(1), int64(2), object(8)\n",
      "memory usage: 3.6+ MB\n"
     ]
    }
   ],
   "source": [
    "zmt.info()"
   ]
  },
  {
   "cell_type": "code",
   "execution_count": 33,
   "id": "825e763e",
   "metadata": {
    "execution": {
     "iopub.execute_input": "2023-01-20T09:04:09.447725Z",
     "iopub.status.busy": "2023-01-20T09:04:09.446680Z",
     "iopub.status.idle": "2023-01-20T09:04:09.664473Z",
     "shell.execute_reply": "2023-01-20T09:04:09.663293Z"
    },
    "papermill": {
     "duration": 0.247,
     "end_time": "2023-01-20T09:04:09.667190",
     "exception": false,
     "start_time": "2023-01-20T09:04:09.420190",
     "status": "completed"
    },
    "tags": []
   },
   "outputs": [],
   "source": [
    "zmt.to_csv('./zomato_clean_data.csv') # Saivng cleaned dataset in output directory."
   ]
  },
  {
   "cell_type": "markdown",
   "id": "a4e7841d",
   "metadata": {
    "papermill": {
     "duration": 0.025011,
     "end_time": "2023-01-20T09:04:09.717444",
     "exception": false,
     "start_time": "2023-01-20T09:04:09.692433",
     "status": "completed"
    },
    "tags": []
   },
   "source": [
    "#### Therefore, we cleaned our data successfully and got 43453 Values of data  out of 51717.\n",
    "\n",
    "If you have more cleaning ideas on this dataset place in comments or in Diccussion."
   ]
  },
  {
   "cell_type": "markdown",
   "id": "8c78c911",
   "metadata": {
    "papermill": {
     "duration": 0.024654,
     "end_time": "2023-01-20T09:04:09.768392",
     "exception": false,
     "start_time": "2023-01-20T09:04:09.743738",
     "status": "completed"
    },
    "tags": []
   },
   "source": [
    "# Data Visualization\n",
    "\n",
    "In data visualization we going to visualize our data how it is, and trying to find some informative data from our dataset.\n",
    "\n",
    "Here we are going to use two python libraries For visualization.\n",
    "\n",
    "* Seaborn\n",
    "* Matplotlib\n",
    "\n",
    "So, first we are going to import them."
   ]
  },
  {
   "cell_type": "code",
   "execution_count": 34,
   "id": "f17e5291",
   "metadata": {
    "execution": {
     "iopub.execute_input": "2023-01-20T09:04:09.820860Z",
     "iopub.status.busy": "2023-01-20T09:04:09.820208Z",
     "iopub.status.idle": "2023-01-20T09:04:10.791582Z",
     "shell.execute_reply": "2023-01-20T09:04:10.790394Z"
    },
    "papermill": {
     "duration": 1.001,
     "end_time": "2023-01-20T09:04:10.794246",
     "exception": false,
     "start_time": "2023-01-20T09:04:09.793246",
     "status": "completed"
    },
    "tags": []
   },
   "outputs": [],
   "source": [
    "import seaborn as sns\n",
    "import matplotlib.pyplot as plt"
   ]
  },
  {
   "cell_type": "markdown",
   "id": "87d370ee",
   "metadata": {
    "papermill": {
     "duration": 0.027866,
     "end_time": "2023-01-20T09:04:10.848830",
     "exception": false,
     "start_time": "2023-01-20T09:04:10.820964",
     "status": "completed"
    },
    "tags": []
   },
   "source": [
    "##### So we know that we are working on zomato or we can say Restaurants rating dataset. By seaing a datase we can visualize more things,\n",
    "\n",
    "##### Ex:\n",
    "\n",
    "* We can find, Restaurants Delivering online or not.\n",
    "* Restaurants allowing table booking or not.\n",
    "* Best location to visit.\n",
    "* Types of Restaurants.\n",
    "##### and many more. Lets, Explore things by doing practice..."
   ]
  },
  {
   "cell_type": "markdown",
   "id": "888038fe",
   "metadata": {
    "papermill": {
     "duration": 0.024927,
     "end_time": "2023-01-20T09:04:10.899673",
     "exception": false,
     "start_time": "2023-01-20T09:04:10.874746",
     "status": "completed"
    },
    "tags": []
   },
   "source": [
    "#### We know zomato mostely focused on online delivery lets find,\n",
    "#### 1) How many restaurants accpeting online order for zomato?"
   ]
  },
  {
   "cell_type": "code",
   "execution_count": 35,
   "id": "09e44d62",
   "metadata": {
    "execution": {
     "iopub.execute_input": "2023-01-20T09:04:10.951529Z",
     "iopub.status.busy": "2023-01-20T09:04:10.951134Z",
     "iopub.status.idle": "2023-01-20T09:04:10.965743Z",
     "shell.execute_reply": "2023-01-20T09:04:10.964903Z"
    },
    "papermill": {
     "duration": 0.042984,
     "end_time": "2023-01-20T09:04:10.967734",
     "exception": false,
     "start_time": "2023-01-20T09:04:10.924750",
     "status": "completed"
    },
    "tags": []
   },
   "outputs": [
    {
     "data": {
      "text/html": [
       "<div>\n",
       "<style scoped>\n",
       "    .dataframe tbody tr th:only-of-type {\n",
       "        vertical-align: middle;\n",
       "    }\n",
       "\n",
       "    .dataframe tbody tr th {\n",
       "        vertical-align: top;\n",
       "    }\n",
       "\n",
       "    .dataframe thead th {\n",
       "        text-align: right;\n",
       "    }\n",
       "</style>\n",
       "<table border=\"1\" class=\"dataframe\">\n",
       "  <thead>\n",
       "    <tr style=\"text-align: right;\">\n",
       "      <th></th>\n",
       "      <th>restaurants</th>\n",
       "      <th>online_order</th>\n",
       "      <th>book_table</th>\n",
       "      <th>rating</th>\n",
       "      <th>votes</th>\n",
       "      <th>location</th>\n",
       "      <th>rest_type</th>\n",
       "      <th>food_type</th>\n",
       "      <th>cost</th>\n",
       "      <th>type</th>\n",
       "      <th>city</th>\n",
       "    </tr>\n",
       "  </thead>\n",
       "  <tbody>\n",
       "    <tr>\n",
       "      <th>0</th>\n",
       "      <td>Jalsa</td>\n",
       "      <td>Yes</td>\n",
       "      <td>Yes</td>\n",
       "      <td>4.1</td>\n",
       "      <td>775</td>\n",
       "      <td>Banashankari</td>\n",
       "      <td>Casual Dining</td>\n",
       "      <td>North Indian, Mughlai, Chinese</td>\n",
       "      <td>800</td>\n",
       "      <td>Buffet</td>\n",
       "      <td>Banashankari</td>\n",
       "    </tr>\n",
       "  </tbody>\n",
       "</table>\n",
       "</div>"
      ],
      "text/plain": [
       "  restaurants online_order book_table  rating  votes      location  \\\n",
       "0       Jalsa          Yes        Yes     4.1    775  Banashankari   \n",
       "\n",
       "       rest_type                       food_type  cost    type          city  \n",
       "0  Casual Dining  North Indian, Mughlai, Chinese   800  Buffet  Banashankari  "
      ]
     },
     "execution_count": 35,
     "metadata": {},
     "output_type": "execute_result"
    }
   ],
   "source": [
    "zmt.head(1) # see the name of the cloumns "
   ]
  },
  {
   "cell_type": "code",
   "execution_count": 36,
   "id": "e06dd13a",
   "metadata": {
    "execution": {
     "iopub.execute_input": "2023-01-20T09:04:11.021119Z",
     "iopub.status.busy": "2023-01-20T09:04:11.020081Z",
     "iopub.status.idle": "2023-01-20T09:04:11.195565Z",
     "shell.execute_reply": "2023-01-20T09:04:11.194316Z"
    },
    "papermill": {
     "duration": 0.205509,
     "end_time": "2023-01-20T09:04:11.198631",
     "exception": false,
     "start_time": "2023-01-20T09:04:10.993122",
     "status": "completed"
    },
    "tags": []
   },
   "outputs": [
    {
     "data": {
      "image/png": "[encoded data removed]",
      "text/plain": [
       "<Figure size 720x360 with 1 Axes>"
      ]
     },
     "metadata": {
      "needs_background": "light"
     },
     "output_type": "display_data"
    }
   ],
   "source": [
    "plt.figure(figsize=(10,5))\n",
    "sns.countplot(x='online_order',data=zmt) # countplot gives us count of the values\n",
    "plt.show()"
   ]
  },
  {
   "cell_type": "markdown",
   "id": "52423334",
   "metadata": {
    "papermill": {
     "duration": 0.02536,
     "end_time": "2023-01-20T09:04:11.253977",
     "exception": false,
     "start_time": "2023-01-20T09:04:11.228617",
     "status": "completed"
    },
    "tags": []
   },
   "source": [
    "By observing the graph, we can say that 25000+ restaurants are accepting online order for zomato and 15000 restaurants not accepting online orders."
   ]
  },
  {
   "cell_type": "markdown",
   "id": "c2791203",
   "metadata": {
    "papermill": {
     "duration": 0.025025,
     "end_time": "2023-01-20T09:04:11.304422",
     "exception": false,
     "start_time": "2023-01-20T09:04:11.279397",
     "status": "completed"
    },
    "tags": []
   },
   "source": [
    "#### 2) Find best location by seeing dataset.\n",
    "\n",
    "How can we find? :-\n",
    "\n",
    "We have two columns 'rating' and 'votes' so by geeting the average of those columns with repect to 'location'\n",
    "we can find the best location."
   ]
  },
  {
   "cell_type": "code",
   "execution_count": 37,
   "id": "ed4ce104",
   "metadata": {
    "execution": {
     "iopub.execute_input": "2023-01-20T09:04:11.357338Z",
     "iopub.status.busy": "2023-01-20T09:04:11.356899Z",
     "iopub.status.idle": "2023-01-20T09:04:11.372372Z",
     "shell.execute_reply": "2023-01-20T09:04:11.371249Z"
    },
    "papermill": {
     "duration": 0.044631,
     "end_time": "2023-01-20T09:04:11.374416",
     "exception": false,
     "start_time": "2023-01-20T09:04:11.329785",
     "status": "completed"
    },
    "tags": []
   },
   "outputs": [
    {
     "data": {
      "text/html": [
       "<div>\n",
       "<style scoped>\n",
       "    .dataframe tbody tr th:only-of-type {\n",
       "        vertical-align: middle;\n",
       "    }\n",
       "\n",
       "    .dataframe tbody tr th {\n",
       "        vertical-align: top;\n",
       "    }\n",
       "\n",
       "    .dataframe thead th {\n",
       "        text-align: right;\n",
       "    }\n",
       "</style>\n",
       "<table border=\"1\" class=\"dataframe\">\n",
       "  <thead>\n",
       "    <tr style=\"text-align: right;\">\n",
       "      <th></th>\n",
       "      <th>restaurants</th>\n",
       "      <th>online_order</th>\n",
       "      <th>book_table</th>\n",
       "      <th>rating</th>\n",
       "      <th>votes</th>\n",
       "      <th>location</th>\n",
       "      <th>rest_type</th>\n",
       "      <th>food_type</th>\n",
       "      <th>cost</th>\n",
       "      <th>type</th>\n",
       "      <th>city</th>\n",
       "    </tr>\n",
       "  </thead>\n",
       "  <tbody>\n",
       "    <tr>\n",
       "      <th>0</th>\n",
       "      <td>Jalsa</td>\n",
       "      <td>Yes</td>\n",
       "      <td>Yes</td>\n",
       "      <td>4.1</td>\n",
       "      <td>775</td>\n",
       "      <td>Banashankari</td>\n",
       "      <td>Casual Dining</td>\n",
       "      <td>North Indian, Mughlai, Chinese</td>\n",
       "      <td>800</td>\n",
       "      <td>Buffet</td>\n",
       "      <td>Banashankari</td>\n",
       "    </tr>\n",
       "  </tbody>\n",
       "</table>\n",
       "</div>"
      ],
      "text/plain": [
       "  restaurants online_order book_table  rating  votes      location  \\\n",
       "0       Jalsa          Yes        Yes     4.1    775  Banashankari   \n",
       "\n",
       "       rest_type                       food_type  cost    type          city  \n",
       "0  Casual Dining  North Indian, Mughlai, Chinese   800  Buffet  Banashankari  "
      ]
     },
     "execution_count": 37,
     "metadata": {},
     "output_type": "execute_result"
    }
   ],
   "source": [
    "zmt.head(1)"
   ]
  },
  {
   "cell_type": "code",
   "execution_count": 38,
   "id": "9aeba906",
   "metadata": {
    "execution": {
     "iopub.execute_input": "2023-01-20T09:04:11.427844Z",
     "iopub.status.busy": "2023-01-20T09:04:11.426706Z",
     "iopub.status.idle": "2023-01-20T09:04:11.431384Z",
     "shell.execute_reply": "2023-01-20T09:04:11.430471Z"
    },
    "papermill": {
     "duration": 0.033527,
     "end_time": "2023-01-20T09:04:11.433555",
     "exception": false,
     "start_time": "2023-01-20T09:04:11.400028",
     "status": "completed"
    },
    "tags": []
   },
   "outputs": [],
   "source": [
    "# sns.barplot(x='location',y='votes',hue='online_order',data=zmt[:50])"
   ]
  },
  {
   "cell_type": "code",
   "execution_count": 39,
   "id": "e2b99ea8",
   "metadata": {
    "execution": {
     "iopub.execute_input": "2023-01-20T09:04:11.487465Z",
     "iopub.status.busy": "2023-01-20T09:04:11.486659Z",
     "iopub.status.idle": "2023-01-20T09:04:11.833165Z",
     "shell.execute_reply": "2023-01-20T09:04:11.832204Z"
    },
    "papermill": {
     "duration": 0.37635,
     "end_time": "2023-01-20T09:04:11.835644",
     "exception": false,
     "start_time": "2023-01-20T09:04:11.459294",
     "status": "completed"
    },
    "tags": []
   },
   "outputs": [
    {
     "data": {
      "image/png": "[encoded data removed]",
      "text/plain": [
       "<Figure size 1152x720 with 2 Axes>"
      ]
     },
     "metadata": {
      "needs_background": "light"
     },
     "output_type": "display_data"
    }
   ],
   "source": [
    "plt.figure(figsize=(16,10)) # seeting graph size using matplotlib\n",
    "ax = plt.subplot(2,1,1)   # use of Subploting\n",
    "loc_rating=zmt.groupby('location').agg({'rating':'median'})\n",
    "rating_sorted_loc=loc_rating.sort_values('rating',ascending=False).head(5).reset_index() # sorting location on avg of votes in descending order and reading first 5 values\n",
    "sns.barplot(x='location',y='rating',data=rating_sorted_loc) # ploting graph using seaborn\n",
    "\n",
    "ax = plt.subplot(2,1,2)\n",
    "loc_votes=zmt.groupby('location').agg({'votes':'median'})\n",
    "votes_sorted_loc=loc_votes.sort_values('votes',ascending=False).head(5).reset_index() # sorting location on avg of rating in descending order and reading first 5 values\n",
    "sns.barplot(x='location',y='votes',\n",
    "            data=votes_sorted_loc)\n",
    "plt.show()\n"
   ]
  },
  {
   "cell_type": "markdown",
   "id": "b3f1aa76",
   "metadata": {
    "papermill": {
     "duration": 0.025993,
     "end_time": "2023-01-20T09:04:11.887823",
     "exception": false,
     "start_time": "2023-01-20T09:04:11.861830",
     "status": "completed"
    },
    "tags": []
   },
   "source": [
    "By observing the above graphs,'levelle Road' has an high rating and votes as well as compare to other. \n",
    "\n",
    "So, we can say that 'levelle Road' is a best location by comparing 'votes' and 'rating' of locations.\n",
    "\n"
   ]
  },
  {
   "cell_type": "markdown",
   "id": "97f4a627",
   "metadata": {
    "papermill": {
     "duration": 0.02564,
     "end_time": "2023-01-20T09:04:11.939468",
     "exception": false,
     "start_time": "2023-01-20T09:04:11.913828",
     "status": "completed"
    },
    "tags": []
   },
   "source": [
    "#### 3) Find Types of restraunts and their count."
   ]
  },
  {
   "cell_type": "code",
   "execution_count": 40,
   "id": "18436e80",
   "metadata": {
    "execution": {
     "iopub.execute_input": "2023-01-20T09:04:11.993078Z",
     "iopub.status.busy": "2023-01-20T09:04:11.992675Z",
     "iopub.status.idle": "2023-01-20T09:04:12.008512Z",
     "shell.execute_reply": "2023-01-20T09:04:12.007356Z"
    },
    "papermill": {
     "duration": 0.045503,
     "end_time": "2023-01-20T09:04:12.010957",
     "exception": false,
     "start_time": "2023-01-20T09:04:11.965454",
     "status": "completed"
    },
    "tags": []
   },
   "outputs": [
    {
     "data": {
      "text/html": [
       "<div>\n",
       "<style scoped>\n",
       "    .dataframe tbody tr th:only-of-type {\n",
       "        vertical-align: middle;\n",
       "    }\n",
       "\n",
       "    .dataframe tbody tr th {\n",
       "        vertical-align: top;\n",
       "    }\n",
       "\n",
       "    .dataframe thead th {\n",
       "        text-align: right;\n",
       "    }\n",
       "</style>\n",
       "<table border=\"1\" class=\"dataframe\">\n",
       "  <thead>\n",
       "    <tr style=\"text-align: right;\">\n",
       "      <th></th>\n",
       "      <th>restaurants</th>\n",
       "      <th>online_order</th>\n",
       "      <th>book_table</th>\n",
       "      <th>rating</th>\n",
       "      <th>votes</th>\n",
       "      <th>location</th>\n",
       "      <th>rest_type</th>\n",
       "      <th>food_type</th>\n",
       "      <th>cost</th>\n",
       "      <th>type</th>\n",
       "      <th>city</th>\n",
       "    </tr>\n",
       "  </thead>\n",
       "  <tbody>\n",
       "    <tr>\n",
       "      <th>0</th>\n",
       "      <td>Jalsa</td>\n",
       "      <td>Yes</td>\n",
       "      <td>Yes</td>\n",
       "      <td>4.1</td>\n",
       "      <td>775</td>\n",
       "      <td>Banashankari</td>\n",
       "      <td>Casual Dining</td>\n",
       "      <td>North Indian, Mughlai, Chinese</td>\n",
       "      <td>800</td>\n",
       "      <td>Buffet</td>\n",
       "      <td>Banashankari</td>\n",
       "    </tr>\n",
       "  </tbody>\n",
       "</table>\n",
       "</div>"
      ],
      "text/plain": [
       "  restaurants online_order book_table  rating  votes      location  \\\n",
       "0       Jalsa          Yes        Yes     4.1    775  Banashankari   \n",
       "\n",
       "       rest_type                       food_type  cost    type          city  \n",
       "0  Casual Dining  North Indian, Mughlai, Chinese   800  Buffet  Banashankari  "
      ]
     },
     "execution_count": 40,
     "metadata": {},
     "output_type": "execute_result"
    }
   ],
   "source": [
    "zmt.head(1)"
   ]
  },
  {
   "cell_type": "code",
   "execution_count": 41,
   "id": "bcda93c4",
   "metadata": {
    "execution": {
     "iopub.execute_input": "2023-01-20T09:04:12.066303Z",
     "iopub.status.busy": "2023-01-20T09:04:12.065872Z",
     "iopub.status.idle": "2023-01-20T09:04:12.826445Z",
     "shell.execute_reply": "2023-01-20T09:04:12.825265Z"
    },
    "papermill": {
     "duration": 0.790824,
     "end_time": "2023-01-20T09:04:12.828817",
     "exception": false,
     "start_time": "2023-01-20T09:04:12.037993",
     "status": "completed"
    },
    "tags": []
   },
   "outputs": [
    {
     "data": {
      "text/plain": [
       "(87, <AxesSubplot:xlabel='restaurants', ylabel='rest_type'>)"
      ]
     },
     "execution_count": 41,
     "metadata": {},
     "output_type": "execute_result"
    },
    {
     "data": {
      "image/png": "[encoded data removed]",
      "text/plain": [
       "<Figure size 720x1440 with 1 Axes>"
      ]
     },
     "metadata": {
      "needs_background": "light"
     },
     "output_type": "display_data"
    }
   ],
   "source": [
    "plt.figure(figsize=(10,20))\n",
    "rest_types=zmt.groupby('rest_type')['restaurants'].count().reset_index()# grouping restaurants types and getting 'restaurant' count\n",
    "sorted_rest_types=rest_types.sort_values('restaurants',ascending=False).head(40) # sorting restaurant types on 'restaurants' counts in descending order and reading 40 values\n",
    "rest_types.rest_type.count(),sns.barplot(x='restaurants',y='rest_type',data=sorted_rest_types,orient='h')# drawing horizontal bar plot to see results\n"
   ]
  },
  {
   "cell_type": "markdown",
   "id": "897ae7d5",
   "metadata": {
    "papermill": {
     "duration": 0.026876,
     "end_time": "2023-01-20T09:04:12.883510",
     "exception": false,
     "start_time": "2023-01-20T09:04:12.856634",
     "status": "completed"
    },
    "tags": []
   },
   "source": [
    "by observing above graph, the 1st line of grapth shows the number of rest_type we have that is 87 and we plotted only top 40 types which are high count of restaurants types.\n",
    "\n",
    "ex:\n",
    "\n",
    "14000 Quick Bites restaurants.\n",
    "\n",
    "10000 Casual Dining restaurants.\n",
    "\n",
    "and so on..."
   ]
  },
  {
   "cell_type": "markdown",
   "id": "07e1dc9e",
   "metadata": {
    "papermill": {
     "duration": 0.026912,
     "end_time": "2023-01-20T09:04:12.937607",
     "exception": false,
     "start_time": "2023-01-20T09:04:12.910695",
     "status": "completed"
    },
    "tags": []
   },
   "source": [
    "#### 4) Find Cost's Of restaurants "
   ]
  },
  {
   "cell_type": "code",
   "execution_count": 42,
   "id": "9d917425",
   "metadata": {
    "execution": {
     "iopub.execute_input": "2023-01-20T09:04:12.993821Z",
     "iopub.status.busy": "2023-01-20T09:04:12.993405Z",
     "iopub.status.idle": "2023-01-20T09:04:13.009189Z",
     "shell.execute_reply": "2023-01-20T09:04:13.008005Z"
    },
    "papermill": {
     "duration": 0.046684,
     "end_time": "2023-01-20T09:04:13.011599",
     "exception": false,
     "start_time": "2023-01-20T09:04:12.964915",
     "status": "completed"
    },
    "tags": []
   },
   "outputs": [
    {
     "data": {
      "text/html": [
       "<div>\n",
       "<style scoped>\n",
       "    .dataframe tbody tr th:only-of-type {\n",
       "        vertical-align: middle;\n",
       "    }\n",
       "\n",
       "    .dataframe tbody tr th {\n",
       "        vertical-align: top;\n",
       "    }\n",
       "\n",
       "    .dataframe thead th {\n",
       "        text-align: right;\n",
       "    }\n",
       "</style>\n",
       "<table border=\"1\" class=\"dataframe\">\n",
       "  <thead>\n",
       "    <tr style=\"text-align: right;\">\n",
       "      <th></th>\n",
       "      <th>restaurants</th>\n",
       "      <th>online_order</th>\n",
       "      <th>book_table</th>\n",
       "      <th>rating</th>\n",
       "      <th>votes</th>\n",
       "      <th>location</th>\n",
       "      <th>rest_type</th>\n",
       "      <th>food_type</th>\n",
       "      <th>cost</th>\n",
       "      <th>type</th>\n",
       "      <th>city</th>\n",
       "    </tr>\n",
       "  </thead>\n",
       "  <tbody>\n",
       "    <tr>\n",
       "      <th>0</th>\n",
       "      <td>Jalsa</td>\n",
       "      <td>Yes</td>\n",
       "      <td>Yes</td>\n",
       "      <td>4.1</td>\n",
       "      <td>775</td>\n",
       "      <td>Banashankari</td>\n",
       "      <td>Casual Dining</td>\n",
       "      <td>North Indian, Mughlai, Chinese</td>\n",
       "      <td>800</td>\n",
       "      <td>Buffet</td>\n",
       "      <td>Banashankari</td>\n",
       "    </tr>\n",
       "  </tbody>\n",
       "</table>\n",
       "</div>"
      ],
      "text/plain": [
       "  restaurants online_order book_table  rating  votes      location  \\\n",
       "0       Jalsa          Yes        Yes     4.1    775  Banashankari   \n",
       "\n",
       "       rest_type                       food_type  cost    type          city  \n",
       "0  Casual Dining  North Indian, Mughlai, Chinese   800  Buffet  Banashankari  "
      ]
     },
     "execution_count": 42,
     "metadata": {},
     "output_type": "execute_result"
    }
   ],
   "source": [
    "zmt.head(1)"
   ]
  },
  {
   "cell_type": "code",
   "execution_count": 43,
   "id": "6523a56f",
   "metadata": {
    "execution": {
     "iopub.execute_input": "2023-01-20T09:04:13.075951Z",
     "iopub.status.busy": "2023-01-20T09:04:13.074947Z",
     "iopub.status.idle": "2023-01-20T09:04:13.478507Z",
     "shell.execute_reply": "2023-01-20T09:04:13.477421Z"
    },
    "papermill": {
     "duration": 0.441385,
     "end_time": "2023-01-20T09:04:13.481050",
     "exception": false,
     "start_time": "2023-01-20T09:04:13.039665",
     "status": "completed"
    },
    "tags": []
   },
   "outputs": [
    {
     "data": {
      "image/png": "[encoded data removed]",
      "text/plain": [
       "<Figure size 720x360 with 1 Axes>"
      ]
     },
     "metadata": {
      "needs_background": "light"
     },
     "output_type": "display_data"
    }
   ],
   "source": [
    "plt.figure(figsize=(10,5))\n",
    "sns.kdeplot('cost',data=zmt)# KDE plot \n",
    "plt.show()"
   ]
  },
  {
   "cell_type": "markdown",
   "id": "c0d368a5",
   "metadata": {
    "papermill": {
     "duration": 0.027526,
     "end_time": "2023-01-20T09:04:13.536574",
     "exception": false,
     "start_time": "2023-01-20T09:04:13.509048",
     "status": "completed"
    },
    "tags": []
   },
   "source": [
    "By observing above kde plot we can say that most of the restaurants have cost between 1 to 1000Rs. for food and remaining have above 1000Rs for their food."
   ]
  },
  {
   "cell_type": "markdown",
   "id": "ae01fe4b",
   "metadata": {
    "papermill": {
     "duration": 0.027337,
     "end_time": "2023-01-20T09:04:13.591654",
     "exception": false,
     "start_time": "2023-01-20T09:04:13.564317",
     "status": "completed"
    },
    "tags": []
   },
   "source": [
    "#### 4) Find count of restaurants have table boking facility.\n",
    "\n",
    "Here, we can use countplot but try to drow pointplot to see how it looks like."
   ]
  },
  {
   "cell_type": "code",
   "execution_count": 44,
   "id": "f06a49c2",
   "metadata": {
    "execution": {
     "iopub.execute_input": "2023-01-20T09:04:13.649036Z",
     "iopub.status.busy": "2023-01-20T09:04:13.648630Z",
     "iopub.status.idle": "2023-01-20T09:04:13.778274Z",
     "shell.execute_reply": "2023-01-20T09:04:13.777043Z"
    },
    "papermill": {
     "duration": 0.162095,
     "end_time": "2023-01-20T09:04:13.781407",
     "exception": false,
     "start_time": "2023-01-20T09:04:13.619312",
     "status": "completed"
    },
    "tags": []
   },
   "outputs": [
    {
     "data": {
      "image/png": "[encoded data removed]",
      "text/plain": [
       "<Figure size 720x360 with 1 Axes>"
      ]
     },
     "metadata": {
      "needs_background": "light"
     },
     "output_type": "display_data"
    }
   ],
   "source": [
    "plt.figure(figsize=(10,5))\n",
    "table_booking= zmt.groupby('book_table')['restaurants'].count().reset_index()\n",
    "sns.pointplot(x='book_table',y='restaurants',color='b',data=table_booking)\n",
    "plt.show()"
   ]
  },
  {
   "cell_type": "markdown",
   "id": "5d5751de",
   "metadata": {
    "papermill": {
     "duration": 0.028434,
     "end_time": "2023-01-20T09:04:13.847911",
     "exception": false,
     "start_time": "2023-01-20T09:04:13.819477",
     "status": "completed"
    },
    "tags": []
   },
   "source": [
    "By seeing above pointplot we can say that only 7000 restaurants have table booking facility and 35000+ restaurants don't have facility of table booking."
   ]
  },
  {
   "cell_type": "markdown",
   "id": "59a6ac9a",
   "metadata": {
    "papermill": {
     "duration": 0.027615,
     "end_time": "2023-01-20T09:04:13.903343",
     "exception": false,
     "start_time": "2023-01-20T09:04:13.875728",
     "status": "completed"
    },
    "tags": []
   },
   "source": [
    "#### 5) Find number of restaurant at given location.\n",
    "\n",
    "* 'BTM'\n",
    "* 'Basavanagudi'\n",
    "* 'West Bangalore'\n",
    "* 'Whitefield'\n",
    "* 'Yeshwantpur'"
   ]
  },
  {
   "cell_type": "code",
   "execution_count": 45,
   "id": "c8b66a96",
   "metadata": {
    "execution": {
     "iopub.execute_input": "2023-01-20T09:04:13.962029Z",
     "iopub.status.busy": "2023-01-20T09:04:13.960957Z",
     "iopub.status.idle": "2023-01-20T09:04:14.161912Z",
     "shell.execute_reply": "2023-01-20T09:04:14.161054Z"
    },
    "papermill": {
     "duration": 0.232526,
     "end_time": "2023-01-20T09:04:14.164249",
     "exception": false,
     "start_time": "2023-01-20T09:04:13.931723",
     "status": "completed"
    },
    "tags": []
   },
   "outputs": [
    {
     "data": {
      "image/png": "[encoded data removed]",
      "text/plain": [
       "<Figure size 720x360 with 1 Axes>"
      ]
     },
     "metadata": {
      "needs_background": "light"
     },
     "output_type": "display_data"
    }
   ],
   "source": [
    "df=pd.DataFrame(zmt.groupby('location')['restaurants'].count()).reset_index()\n",
    "criteria=df['location'].isin(['BTM','Basavanagudi','West Bangalore','Whitefield','Yeshwantpur']) # selecting given locations from dataset using isin()\n",
    "plt.figure(figsize=(10,5)) \n",
    "sns.barplot(x='location',y='restaurants',data=df[criteria])\n",
    "plt.show()"
   ]
  },
  {
   "cell_type": "markdown",
   "id": "a3601dfd",
   "metadata": {
    "papermill": {
     "duration": 0.028419,
     "end_time": "2023-01-20T09:04:14.221176",
     "exception": false,
     "start_time": "2023-01-20T09:04:14.192757",
     "status": "completed"
    },
    "tags": []
   },
   "source": [
    "By seeing given plot, we can notice that how many restaurants present are at given locations.\n",
    "\n",
    "Ex:-\n",
    "\n",
    "BTM lication has 4000+ restaurants\n"
   ]
  },
  {
   "cell_type": "markdown",
   "id": "b9d998a4",
   "metadata": {
    "papermill": {
     "duration": 0.027941,
     "end_time": "2023-01-20T09:04:14.277637",
     "exception": false,
     "start_time": "2023-01-20T09:04:14.249696",
     "status": "completed"
    },
    "tags": []
   },
   "source": [
    "#### 6) Find most famous restaurants chains(like Franchise(Rastaurants having more than one branch) in Bangalore.\n",
    "\n",
    "We working on a zomato dataset of bangalore location so we can asume that all locations are belongs to bangalore.\n",
    "\n",
    "* In this problem we need to find restaurant at each location having more than 1 branch and high rating."
   ]
  },
  {
   "cell_type": "code",
   "execution_count": 46,
   "id": "7fa364c0",
   "metadata": {
    "execution": {
     "iopub.execute_input": "2023-01-20T09:04:14.336337Z",
     "iopub.status.busy": "2023-01-20T09:04:14.335624Z",
     "iopub.status.idle": "2023-01-20T09:04:14.395013Z",
     "shell.execute_reply": "2023-01-20T09:04:14.394217Z"
    },
    "papermill": {
     "duration": 0.091238,
     "end_time": "2023-01-20T09:04:14.397107",
     "exception": false,
     "start_time": "2023-01-20T09:04:14.305869",
     "status": "completed"
    },
    "tags": []
   },
   "outputs": [
    {
     "data": {
      "text/html": [
       "<div>\n",
       "<style scoped>\n",
       "    .dataframe tbody tr th:only-of-type {\n",
       "        vertical-align: middle;\n",
       "    }\n",
       "\n",
       "    .dataframe tbody tr th {\n",
       "        vertical-align: top;\n",
       "    }\n",
       "\n",
       "    .dataframe thead th {\n",
       "        text-align: right;\n",
       "    }\n",
       "</style>\n",
       "<table border=\"1\" class=\"dataframe\">\n",
       "  <thead>\n",
       "    <tr style=\"text-align: right;\">\n",
       "      <th></th>\n",
       "      <th>location</th>\n",
       "      <th>restaurants</th>\n",
       "      <th>rating</th>\n",
       "      <th>online_order</th>\n",
       "      <th>book_table</th>\n",
       "      <th>votes</th>\n",
       "      <th>rest_type</th>\n",
       "      <th>food_type</th>\n",
       "      <th>cost</th>\n",
       "      <th>type</th>\n",
       "      <th>city</th>\n",
       "    </tr>\n",
       "  </thead>\n",
       "  <tbody>\n",
       "    <tr>\n",
       "      <th>0</th>\n",
       "      <td>BTM</td>\n",
       "      <td>100C</td>\n",
       "      <td>3.7</td>\n",
       "      <td>3</td>\n",
       "      <td>3</td>\n",
       "      <td>3</td>\n",
       "      <td>3</td>\n",
       "      <td>3</td>\n",
       "      <td>3</td>\n",
       "      <td>3</td>\n",
       "      <td>3</td>\n",
       "    </tr>\n",
       "    <tr>\n",
       "      <th>1</th>\n",
       "      <td>BTM</td>\n",
       "      <td>2nd Home Restaurant</td>\n",
       "      <td>3.7</td>\n",
       "      <td>11</td>\n",
       "      <td>11</td>\n",
       "      <td>11</td>\n",
       "      <td>11</td>\n",
       "      <td>11</td>\n",
       "      <td>11</td>\n",
       "      <td>11</td>\n",
       "      <td>11</td>\n",
       "    </tr>\n",
       "    <tr>\n",
       "      <th>2</th>\n",
       "      <td>BTM</td>\n",
       "      <td>36th Cross Coffee Mane</td>\n",
       "      <td>3.7</td>\n",
       "      <td>1</td>\n",
       "      <td>1</td>\n",
       "      <td>1</td>\n",
       "      <td>1</td>\n",
       "      <td>1</td>\n",
       "      <td>1</td>\n",
       "      <td>1</td>\n",
       "      <td>1</td>\n",
       "    </tr>\n",
       "    <tr>\n",
       "      <th>3</th>\n",
       "      <td>BTM</td>\n",
       "      <td>3B's - Buddies, Bar &amp; Barbecues</td>\n",
       "      <td>4.4</td>\n",
       "      <td>13</td>\n",
       "      <td>13</td>\n",
       "      <td>13</td>\n",
       "      <td>13</td>\n",
       "      <td>13</td>\n",
       "      <td>13</td>\n",
       "      <td>13</td>\n",
       "      <td>13</td>\n",
       "    </tr>\n",
       "    <tr>\n",
       "      <th>4</th>\n",
       "      <td>BTM</td>\n",
       "      <td>A2B - Adyar Ananda Bhavan</td>\n",
       "      <td>3.8</td>\n",
       "      <td>1</td>\n",
       "      <td>1</td>\n",
       "      <td>1</td>\n",
       "      <td>1</td>\n",
       "      <td>1</td>\n",
       "      <td>1</td>\n",
       "      <td>1</td>\n",
       "      <td>1</td>\n",
       "    </tr>\n",
       "    <tr>\n",
       "      <th>...</th>\n",
       "      <td>...</td>\n",
       "      <td>...</td>\n",
       "      <td>...</td>\n",
       "      <td>...</td>\n",
       "      <td>...</td>\n",
       "      <td>...</td>\n",
       "      <td>...</td>\n",
       "      <td>...</td>\n",
       "      <td>...</td>\n",
       "      <td>...</td>\n",
       "      <td>...</td>\n",
       "    </tr>\n",
       "    <tr>\n",
       "      <th>12577</th>\n",
       "      <td>Yeshwantpur</td>\n",
       "      <td>The Cupcake Story</td>\n",
       "      <td>3.5</td>\n",
       "      <td>1</td>\n",
       "      <td>1</td>\n",
       "      <td>1</td>\n",
       "      <td>1</td>\n",
       "      <td>1</td>\n",
       "      <td>1</td>\n",
       "      <td>1</td>\n",
       "      <td>1</td>\n",
       "    </tr>\n",
       "    <tr>\n",
       "      <th>12578</th>\n",
       "      <td>Yeshwantpur</td>\n",
       "      <td>The Duke Of Juices</td>\n",
       "      <td>3.3</td>\n",
       "      <td>1</td>\n",
       "      <td>1</td>\n",
       "      <td>1</td>\n",
       "      <td>1</td>\n",
       "      <td>1</td>\n",
       "      <td>1</td>\n",
       "      <td>1</td>\n",
       "      <td>1</td>\n",
       "    </tr>\n",
       "    <tr>\n",
       "      <th>12579</th>\n",
       "      <td>Yeshwantpur</td>\n",
       "      <td>Tuckinto</td>\n",
       "      <td>3.8</td>\n",
       "      <td>2</td>\n",
       "      <td>2</td>\n",
       "      <td>2</td>\n",
       "      <td>2</td>\n",
       "      <td>2</td>\n",
       "      <td>2</td>\n",
       "      <td>2</td>\n",
       "      <td>2</td>\n",
       "    </tr>\n",
       "    <tr>\n",
       "      <th>12580</th>\n",
       "      <td>Yeshwantpur</td>\n",
       "      <td>Udupi Garden</td>\n",
       "      <td>3.0</td>\n",
       "      <td>2</td>\n",
       "      <td>2</td>\n",
       "      <td>2</td>\n",
       "      <td>2</td>\n",
       "      <td>2</td>\n",
       "      <td>2</td>\n",
       "      <td>2</td>\n",
       "      <td>2</td>\n",
       "    </tr>\n",
       "    <tr>\n",
       "      <th>12581</th>\n",
       "      <td>Yeshwantpur</td>\n",
       "      <td>Zam Zam Kabab House</td>\n",
       "      <td>3.4</td>\n",
       "      <td>2</td>\n",
       "      <td>2</td>\n",
       "      <td>2</td>\n",
       "      <td>2</td>\n",
       "      <td>2</td>\n",
       "      <td>2</td>\n",
       "      <td>2</td>\n",
       "      <td>2</td>\n",
       "    </tr>\n",
       "  </tbody>\n",
       "</table>\n",
       "<p>12582 rows × 11 columns</p>\n",
       "</div>"
      ],
      "text/plain": [
       "          location                      restaurants  rating  online_order  \\\n",
       "0              BTM                             100C     3.7             3   \n",
       "1              BTM              2nd Home Restaurant     3.7            11   \n",
       "2              BTM           36th Cross Coffee Mane     3.7             1   \n",
       "3              BTM  3B's - Buddies, Bar & Barbecues     4.4            13   \n",
       "4              BTM        A2B - Adyar Ananda Bhavan     3.8             1   \n",
       "...            ...                              ...     ...           ...   \n",
       "12577  Yeshwantpur                The Cupcake Story     3.5             1   \n",
       "12578  Yeshwantpur               The Duke Of Juices     3.3             1   \n",
       "12579  Yeshwantpur                         Tuckinto     3.8             2   \n",
       "12580  Yeshwantpur                     Udupi Garden     3.0             2   \n",
       "12581  Yeshwantpur              Zam Zam Kabab House     3.4             2   \n",
       "\n",
       "       book_table  votes  rest_type  food_type  cost  type  city  \n",
       "0               3      3          3          3     3     3     3  \n",
       "1              11     11         11         11    11    11    11  \n",
       "2               1      1          1          1     1     1     1  \n",
       "3              13     13         13         13    13    13    13  \n",
       "4               1      1          1          1     1     1     1  \n",
       "...           ...    ...        ...        ...   ...   ...   ...  \n",
       "12577           1      1          1          1     1     1     1  \n",
       "12578           1      1          1          1     1     1     1  \n",
       "12579           2      2          2          2     2     2     2  \n",
       "12580           2      2          2          2     2     2     2  \n",
       "12581           2      2          2          2     2     2     2  \n",
       "\n",
       "[12582 rows x 11 columns]"
      ]
     },
     "execution_count": 46,
     "metadata": {},
     "output_type": "execute_result"
    }
   ],
   "source": [
    "df1=pd.DataFrame(zmt.groupby(['location','restaurants','rating']).count()).reset_index() # getting location,restraunts and rating and their count of restaurants\n",
    "df1"
   ]
  },
  {
   "cell_type": "code",
   "execution_count": 47,
   "id": "d691c494",
   "metadata": {
    "execution": {
     "iopub.execute_input": "2023-01-20T09:04:14.456721Z",
     "iopub.status.busy": "2023-01-20T09:04:14.456046Z",
     "iopub.status.idle": "2023-01-20T09:04:14.839629Z",
     "shell.execute_reply": "2023-01-20T09:04:14.838714Z"
    },
    "papermill": {
     "duration": 0.416138,
     "end_time": "2023-01-20T09:04:14.842007",
     "exception": false,
     "start_time": "2023-01-20T09:04:14.425869",
     "status": "completed"
    },
    "tags": []
   },
   "outputs": [
    {
     "data": {
      "text/plain": [
       "<AxesSubplot:xlabel='cost', ylabel='Density'>"
      ]
     },
     "execution_count": 47,
     "metadata": {},
     "output_type": "execute_result"
    },
    {
     "data": {
      "image/png": "[encoded data removed]",
      "text/plain": [
       "<Figure size 432x288 with 1 Axes>"
      ]
     },
     "metadata": {
      "needs_background": "light"
     },
     "output_type": "display_data"
    }
   ],
   "source": [
    "sns.distplot(df1['cost'])"
   ]
  },
  {
   "cell_type": "markdown",
   "id": "efd2d868",
   "metadata": {
    "papermill": {
     "duration": 0.028978,
     "end_time": "2023-01-20T09:04:14.900443",
     "exception": false,
     "start_time": "2023-01-20T09:04:14.871465",
     "status": "completed"
    },
    "tags": []
   },
   "source": [
    "Note that all columns having some count values these are nothing but a count of that restaurant at given location.\n",
    "\n",
    "We can see some restaurants having 1 count and some having more than 1. We want that restaurants which having more than 1 count and high rating."
   ]
  },
  {
   "cell_type": "code",
   "execution_count": 48,
   "id": "3ca3cb7c",
   "metadata": {
    "execution": {
     "iopub.execute_input": "2023-01-20T09:04:14.961435Z",
     "iopub.status.busy": "2023-01-20T09:04:14.960745Z",
     "iopub.status.idle": "2023-01-20T09:04:14.995716Z",
     "shell.execute_reply": "2023-01-20T09:04:14.994889Z"
    },
    "papermill": {
     "duration": 0.068068,
     "end_time": "2023-01-20T09:04:14.997877",
     "exception": false,
     "start_time": "2023-01-20T09:04:14.929809",
     "status": "completed"
    },
    "tags": []
   },
   "outputs": [
    {
     "data": {
      "text/html": [
       "<div>\n",
       "<style scoped>\n",
       "    .dataframe tbody tr th:only-of-type {\n",
       "        vertical-align: middle;\n",
       "    }\n",
       "\n",
       "    .dataframe tbody tr th {\n",
       "        vertical-align: top;\n",
       "    }\n",
       "\n",
       "    .dataframe thead th {\n",
       "        text-align: right;\n",
       "    }\n",
       "</style>\n",
       "<table border=\"1\" class=\"dataframe\">\n",
       "  <thead>\n",
       "    <tr style=\"text-align: right;\">\n",
       "      <th></th>\n",
       "      <th>location</th>\n",
       "      <th>restaurants</th>\n",
       "      <th>rating</th>\n",
       "    </tr>\n",
       "  </thead>\n",
       "  <tbody>\n",
       "    <tr>\n",
       "      <th>0</th>\n",
       "      <td>BTM</td>\n",
       "      <td>eat.fit</td>\n",
       "      <td>4.9</td>\n",
       "    </tr>\n",
       "    <tr>\n",
       "      <th>1</th>\n",
       "      <td>Banashankari</td>\n",
       "      <td>Yo Roll Corner</td>\n",
       "      <td>4.6</td>\n",
       "    </tr>\n",
       "    <tr>\n",
       "      <th>2</th>\n",
       "      <td>Banaswadi</td>\n",
       "      <td>Zam Zam Restaurant</td>\n",
       "      <td>4.0</td>\n",
       "    </tr>\n",
       "    <tr>\n",
       "      <th>3</th>\n",
       "      <td>Bannerghatta Road</td>\n",
       "      <td>Zhangs Classic</td>\n",
       "      <td>4.6</td>\n",
       "    </tr>\n",
       "    <tr>\n",
       "      <th>4</th>\n",
       "      <td>Basavanagudi</td>\n",
       "      <td>Zephyr</td>\n",
       "      <td>4.6</td>\n",
       "    </tr>\n",
       "    <tr>\n",
       "      <th>...</th>\n",
       "      <td>...</td>\n",
       "      <td>...</td>\n",
       "      <td>...</td>\n",
       "    </tr>\n",
       "    <tr>\n",
       "      <th>84</th>\n",
       "      <td>West Bangalore</td>\n",
       "      <td>FreshMenu</td>\n",
       "      <td>3.3</td>\n",
       "    </tr>\n",
       "    <tr>\n",
       "      <th>85</th>\n",
       "      <td>Whitefield</td>\n",
       "      <td>nu.tree</td>\n",
       "      <td>4.9</td>\n",
       "    </tr>\n",
       "    <tr>\n",
       "      <th>86</th>\n",
       "      <td>Wilson Garden</td>\n",
       "      <td>Vijaya Sagar</td>\n",
       "      <td>4.0</td>\n",
       "    </tr>\n",
       "    <tr>\n",
       "      <th>87</th>\n",
       "      <td>Yelahanka</td>\n",
       "      <td>Prashanth Naati Corner</td>\n",
       "      <td>3.9</td>\n",
       "    </tr>\n",
       "    <tr>\n",
       "      <th>88</th>\n",
       "      <td>Yeshwantpur</td>\n",
       "      <td>Zam Zam Kabab House</td>\n",
       "      <td>4.2</td>\n",
       "    </tr>\n",
       "  </tbody>\n",
       "</table>\n",
       "<p>89 rows × 3 columns</p>\n",
       "</div>"
      ],
      "text/plain": [
       "             location             restaurants  rating\n",
       "0                 BTM                 eat.fit     4.9\n",
       "1        Banashankari          Yo Roll Corner     4.6\n",
       "2           Banaswadi      Zam Zam Restaurant     4.0\n",
       "3   Bannerghatta Road          Zhangs Classic     4.6\n",
       "4        Basavanagudi                  Zephyr     4.6\n",
       "..                ...                     ...     ...\n",
       "84     West Bangalore               FreshMenu     3.3\n",
       "85         Whitefield                 nu.tree     4.9\n",
       "86      Wilson Garden            Vijaya Sagar     4.0\n",
       "87          Yelahanka  Prashanth Naati Corner     3.9\n",
       "88        Yeshwantpur     Zam Zam Kabab House     4.2\n",
       "\n",
       "[89 rows x 3 columns]"
      ]
     },
     "execution_count": 48,
     "metadata": {},
     "output_type": "execute_result"
    }
   ],
   "source": [
    "chains_restaurants=df1[(df1['book_table']>1)]\n",
    "famous_restaurants=pd.DataFrame(chains_restaurants.groupby('location')['restaurants','rating'].max()).reset_index()\n",
    "famous_restaurants"
   ]
  },
  {
   "cell_type": "markdown",
   "id": "4f46397f",
   "metadata": {
    "papermill": {
     "duration": 0.030122,
     "end_time": "2023-01-20T09:04:15.058061",
     "exception": false,
     "start_time": "2023-01-20T09:04:15.027939",
     "status": "completed"
    },
    "tags": []
   },
   "source": [
    "Finally, we got restaurant at each location has more that one branch and highest rating. Total 89 result we got. Let's try to plot only first 5 to get idea."
   ]
  },
  {
   "cell_type": "code",
   "execution_count": 49,
   "id": "6006ceaf",
   "metadata": {
    "execution": {
     "iopub.execute_input": "2023-01-20T09:04:15.120321Z",
     "iopub.status.busy": "2023-01-20T09:04:15.119225Z",
     "iopub.status.idle": "2023-01-20T09:04:15.596612Z",
     "shell.execute_reply": "2023-01-20T09:04:15.595706Z"
    },
    "papermill": {
     "duration": 0.510745,
     "end_time": "2023-01-20T09:04:15.598795",
     "exception": false,
     "start_time": "2023-01-20T09:04:15.088050",
     "status": "completed"
    },
    "tags": []
   },
   "outputs": [
    {
     "data": {
      "text/plain": [
       "<seaborn.axisgrid.FacetGrid at 0x7f1039ffdd10>"
      ]
     },
     "execution_count": 49,
     "metadata": {},
     "output_type": "execute_result"
    },
    {
     "data": {
      "image/png": "[encoded data removed]",
      "text/plain": [
       "<Figure size 646.125x504 with 1 Axes>"
      ]
     },
     "metadata": {
      "needs_background": "light"
     },
     "output_type": "display_data"
    }
   ],
   "source": [
    "sns.catplot(x=\"location\", y=\"rating\", hue=\"restaurants\",kind='bar',height=7,data=famous_restaurants.head(5))"
   ]
  },
  {
   "cell_type": "markdown",
   "id": "2a0bc2b5",
   "metadata": {
    "papermill": {
     "duration": 0.030045,
     "end_time": "2023-01-20T09:04:15.658688",
     "exception": false,
     "start_time": "2023-01-20T09:04:15.628643",
     "status": "completed"
    },
    "tags": []
   },
   "source": [
    "Here we can see that famous restaurant having more that one branch at location and their rating as well.\n",
    "\n",
    "Ex.:\n",
    "\n",
    "* We can say that, at BTM location in bangalore \"eat.fit\" restaurant is a famous restaurant franchise having maximum rating(4.9) compare to other restaurants franchise's at same location.\n",
    "\n",
    "* At Banashankari location in bangalore \"Yo Roll Corner\" restaurant is a famous restaurant franchise having maximum rating(4.6) compare to other restaurants franchise's at same location.\n",
    "\n",
    "\n",
    "* At Banaswadi location in bangalore \"Zam Zam Restaurant\" restaurant is a famous restaurant franchise having maximum rating(4.0) compare to other restaurants franchise's at same location.\n",
    "\n",
    "and so on..."
   ]
  },
  {
   "cell_type": "markdown",
   "id": "c30f5a23",
   "metadata": {
    "papermill": {
     "duration": 0.029529,
     "end_time": "2023-01-20T09:04:15.718188",
     "exception": false,
     "start_time": "2023-01-20T09:04:15.688659",
     "status": "completed"
    },
    "tags": []
   },
   "source": [
    "#### 7) Find how many voters gives rating for each 'type' and aggregate rating of that 'type'."
   ]
  },
  {
   "cell_type": "code",
   "execution_count": 50,
   "id": "dd98c443",
   "metadata": {
    "execution": {
     "iopub.execute_input": "2023-01-20T09:04:15.779965Z",
     "iopub.status.busy": "2023-01-20T09:04:15.779342Z",
     "iopub.status.idle": "2023-01-20T09:04:16.443827Z",
     "shell.execute_reply": "2023-01-20T09:04:16.442722Z"
    },
    "papermill": {
     "duration": 0.698188,
     "end_time": "2023-01-20T09:04:16.446386",
     "exception": false,
     "start_time": "2023-01-20T09:04:15.748198",
     "status": "completed"
    },
    "tags": []
   },
   "outputs": [
    {
     "data": {
      "image/png": "[encoded data removed]",
      "text/plain": [
       "<Figure size 656.5x576 with 1 Axes>"
      ]
     },
     "metadata": {
      "needs_background": "light"
     },
     "output_type": "display_data"
    }
   ],
   "source": [
    "df2=zmt.groupby('type').agg({'votes':'sum','rating':'mean'}).nlargest(7,['votes']).reset_index()\n",
    "sns.catplot(x='type',y='rating',hue='votes',kind='bar',height=8,data=df2)\n",
    "plt.show()"
   ]
  },
  {
   "cell_type": "markdown",
   "id": "7612fbdb",
   "metadata": {
    "papermill": {
     "duration": 0.0311,
     "end_time": "2023-01-20T09:04:16.508991",
     "exception": false,
     "start_time": "2023-01-20T09:04:16.477891",
     "status": "completed"
    },
    "tags": []
   },
   "source": [
    "Here we can see that, how many voters gives rating for each type and average rating of that type.\n",
    "\n",
    "Ex.:\n",
    "\n",
    "Most of the voters(Total 5235825 voters) gives rating to the Delivery and its average rating is 3.7.\n",
    "\n",
    "and so on...\n",
    "\n",
    "* Note:\n",
    "\n",
    "If we see delivery type has low rating but number of voters are high. So it is ok to have low rating because of,\n",
    "\n",
    "If one voter gives rating to a some product that time we have possibility that the product having 5/5 rating.\n",
    "\n",
    "And if number of voters are increases then it is possible to get low rating depending upon how many voters rated to that product."
   ]
  },
  {
   "cell_type": "markdown",
   "id": "c02349da",
   "metadata": {
    "papermill": {
     "duration": 0.031312,
     "end_time": "2023-01-20T09:04:16.571263",
     "exception": false,
     "start_time": "2023-01-20T09:04:16.539951",
     "status": "completed"
    },
    "tags": []
   },
   "source": [
    "#### 8) Gaussian Rest Type(Normal Distribution) of Rating."
   ]
  },
  {
   "cell_type": "code",
   "execution_count": 51,
   "id": "999a7764",
   "metadata": {
    "execution": {
     "iopub.execute_input": "2023-01-20T09:04:16.635170Z",
     "iopub.status.busy": "2023-01-20T09:04:16.633990Z",
     "iopub.status.idle": "2023-01-20T09:04:17.299614Z",
     "shell.execute_reply": "2023-01-20T09:04:17.298379Z"
    },
    "papermill": {
     "duration": 0.700167,
     "end_time": "2023-01-20T09:04:17.302029",
     "exception": false,
     "start_time": "2023-01-20T09:04:16.601862",
     "status": "completed"
    },
    "tags": []
   },
   "outputs": [
    {
     "data": {
      "text/plain": [
       "<AxesSubplot:xlabel='rating', ylabel='Density'>"
      ]
     },
     "execution_count": 51,
     "metadata": {},
     "output_type": "execute_result"
    },
    {
     "data": {
      "image/png": "[encoded data removed]",
      "text/plain": [
       "<Figure size 432x288 with 1 Axes>"
      ]
     },
     "metadata": {
      "needs_background": "light"
     },
     "output_type": "display_data"
    }
   ],
   "source": [
    "sns.distplot(zmt['rating'])"
   ]
  },
  {
   "cell_type": "markdown",
   "id": "abe88f34",
   "metadata": {
    "papermill": {
     "duration": 0.030572,
     "end_time": "2023-01-20T09:04:17.363191",
     "exception": false,
     "start_time": "2023-01-20T09:04:17.332619",
     "status": "completed"
    },
    "tags": []
   },
   "source": [
    "We got a normal distribution form of our rating and we observe that we have maximum ratings between 3.5 to 4.5. "
   ]
  },
  {
   "cell_type": "markdown",
   "id": "353cc2a5",
   "metadata": {
    "papermill": {
     "duration": 0.030355,
     "end_time": "2023-01-20T09:04:17.423973",
     "exception": false,
     "start_time": "2023-01-20T09:04:17.393618",
     "status": "completed"
    },
    "tags": []
   },
   "source": [
    "#### 9) Find the how many Restaurants havign Chinese and North Indian food in their food type."
   ]
  },
  {
   "cell_type": "code",
   "execution_count": 52,
   "id": "b14f0276",
   "metadata": {
    "execution": {
     "iopub.execute_input": "2023-01-20T09:04:17.487006Z",
     "iopub.status.busy": "2023-01-20T09:04:17.486610Z",
     "iopub.status.idle": "2023-01-20T09:04:17.508877Z",
     "shell.execute_reply": "2023-01-20T09:04:17.507736Z"
    },
    "papermill": {
     "duration": 0.056888,
     "end_time": "2023-01-20T09:04:17.511472",
     "exception": false,
     "start_time": "2023-01-20T09:04:17.454584",
     "status": "completed"
    },
    "tags": []
   },
   "outputs": [],
   "source": [
    "Chinese=len([i for i in zmt['food_type'] if 'Chinese' in i]) # count of restaurants who serving chinese food.\n",
    "North_India=len([i for i in zmt['food_type'] if 'North India' in i]) # count of restaurants who serving North Indian food.\n",
    "Restaurant_count=[Chinese,North_India] #creating list\n",
    "Food_Type=['Chinese','North India']\n",
    "df3 = pd.DataFrame({'Food_Type':Food_Type,'Restaurant_count':Restaurant_count})#.set_index('Food_Type')# creating dataset of extracted data\n"
   ]
  },
  {
   "cell_type": "code",
   "execution_count": 53,
   "id": "bdf6d1e2",
   "metadata": {
    "execution": {
     "iopub.execute_input": "2023-01-20T09:04:17.574855Z",
     "iopub.status.busy": "2023-01-20T09:04:17.574469Z",
     "iopub.status.idle": "2023-01-20T09:04:17.733873Z",
     "shell.execute_reply": "2023-01-20T09:04:17.732609Z"
    },
    "papermill": {
     "duration": 0.193919,
     "end_time": "2023-01-20T09:04:17.736496",
     "exception": false,
     "start_time": "2023-01-20T09:04:17.542577",
     "status": "completed"
    },
    "tags": []
   },
   "outputs": [
    {
     "data": {
      "image/png": "[encoded data removed]",
      "text/plain": [
       "<Figure size 432x288 with 1 Axes>"
      ]
     },
     "metadata": {
      "needs_background": "light"
     },
     "output_type": "display_data"
    }
   ],
   "source": [
    "sns.barplot(x='Food_Type',y='Restaurant_count',data=df3) # countplot gives us count of the values\n",
    "plt.show()"
   ]
  },
  {
   "cell_type": "markdown",
   "id": "cb259a63",
   "metadata": {
    "papermill": {
     "duration": 0.030397,
     "end_time": "2023-01-20T09:04:17.798183",
     "exception": false,
     "start_time": "2023-01-20T09:04:17.767786",
     "status": "completed"
    },
    "tags": []
   },
   "source": [
    "Here, We got actual count of restaurants who serving chinese and North Indian food."
   ]
  },
  {
   "cell_type": "markdown",
   "id": "7c45e3fa",
   "metadata": {
    "papermill": {
     "duration": 0.0302,
     "end_time": "2023-01-20T09:04:17.859389",
     "exception": false,
     "start_time": "2023-01-20T09:04:17.829189",
     "status": "completed"
    },
    "tags": []
   },
   "source": [
    "#### 10) Find the most profitable type of restaurant."
   ]
  },
  {
   "cell_type": "code",
   "execution_count": 54,
   "id": "bc7200b5",
   "metadata": {
    "execution": {
     "iopub.execute_input": "2023-01-20T09:04:17.922134Z",
     "iopub.status.busy": "2023-01-20T09:04:17.921714Z",
     "iopub.status.idle": "2023-01-20T09:04:18.156049Z",
     "shell.execute_reply": "2023-01-20T09:04:18.154566Z"
    },
    "papermill": {
     "duration": 0.27004,
     "end_time": "2023-01-20T09:04:18.159994",
     "exception": false,
     "start_time": "2023-01-20T09:04:17.889954",
     "status": "completed"
    },
    "tags": []
   },
   "outputs": [
    {
     "data": {
      "image/png": "[encoded data removed]",
      "text/plain": [
       "<Figure size 648x648 with 1 Axes>"
      ]
     },
     "metadata": {},
     "output_type": "display_data"
    }
   ],
   "source": [
    "df4=zmt.groupby('type').agg({'cost':'mean'})\n",
    "df4.cost.plot(kind='pie',autopct='%1.1f%%',figsize=(9,9),shadow=True)\n",
    "plt.show()"
   ]
  },
  {
   "cell_type": "markdown",
   "id": "3cde4723",
   "metadata": {
    "papermill": {
     "duration": 0.031881,
     "end_time": "2023-01-20T09:04:18.235131",
     "exception": false,
     "start_time": "2023-01-20T09:04:18.203250",
     "status": "completed"
    },
    "tags": []
   },
   "source": [
    "Here, by seeing the total percentage of average cost we can observe that. The restaurants having Drink and Nightlife facility are in high profit than other types."
   ]
  },
  {
   "cell_type": "markdown",
   "id": "83d735ba",
   "metadata": {
    "papermill": {
     "duration": 0.030916,
     "end_time": "2023-01-20T09:04:18.297274",
     "exception": false,
     "start_time": "2023-01-20T09:04:18.266358",
     "status": "completed"
    },
    "tags": []
   },
   "source": [
    "### Conclusion:\n",
    "\n",
    "In the Given dataset we have explored and learned many things, \n",
    "* we learned about how to clean our data.\n",
    "* How we can interprete data by visualizing it.\n",
    "\n"
   ]
  },
  {
   "cell_type": "code",
   "execution_count": null,
   "id": "5f4d057a",
   "metadata": {
    "papermill": {
     "duration": 0.031593,
     "end_time": "2023-01-20T09:04:18.360167",
     "exception": false,
     "start_time": "2023-01-20T09:04:18.328574",
     "status": "completed"
    },
    "tags": []
   },
   "outputs": [],
   "source": []
  }
 ],
 "metadata": {
  "kernelspec": {
   "display_name": "Python 3 (ipykernel)",
   "language": "python",
   "name": "python3"
  },
  "language_info": {
   "codemirror_mode": {
    "name": "ipython",
    "version": 3
   },
   "file_extension": ".py",
   "mimetype": "text/x-python",
   "name": "python",
   "nbconvert_exporter": "python",
   "pygments_lexer": "ipython3",
   "version": "3.7.12"
  },
  "papermill": {
   "default_parameters": {},
   "duration": 35.407553,
   "end_time": "2023-01-20T09:04:19.214602",
   "environment_variables": {},
   "exception": null,
   "input_path": "__notebook__.ipynb",
   "output_path": "__notebook__.ipynb",
   "parameters": {},
   "start_time": "2023-01-20T09:03:43.807049",
   "version": "2.3.4"
  }
 },
 "nbformat": 4,
 "nbformat_minor": 5
}
